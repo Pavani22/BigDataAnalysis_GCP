{
 "cells": [
  {
   "cell_type": "code",
   "execution_count": 1,
   "metadata": {},
   "outputs": [],
   "source": [
    "import pandas as pd\n",
    "import numpy as np\n",
    "import matplotlib.pyplot as plt\n",
    "from sklearn.preprocessing import LabelEncoder\n",
    "from sklearn.feature_selection import SelectKBest\n",
    "from sklearn.feature_selection import chi2\n",
    "import seaborn as sns\n",
    "\n",
    "from sklearn.model_selection import train_test_split"
   ]
  },
  {
   "cell_type": "code",
   "execution_count": null,
   "metadata": {},
   "outputs": [],
   "source": []
  },
  {
   "cell_type": "code",
   "execution_count": 4,
   "metadata": {},
   "outputs": [],
   "source": [
    "pv_us = pd.read_csv('//ictfilesrv/wta/Accu_Internal_D3_Projects/Pavani/Google_Big_Query_Project/WX-PC/mweb_pv_us_bymetro2018.csv')"
   ]
  },
  {
   "cell_type": "code",
   "execution_count": 5,
   "metadata": {},
   "outputs": [
    {
     "data": {
      "text/html": [
       "<div>\n",
       "<style scoped>\n",
       "    .dataframe tbody tr th:only-of-type {\n",
       "        vertical-align: middle;\n",
       "    }\n",
       "\n",
       "    .dataframe tbody tr th {\n",
       "        vertical-align: top;\n",
       "    }\n",
       "\n",
       "    .dataframe thead th {\n",
       "        text-align: right;\n",
       "    }\n",
       "</style>\n",
       "<table border=\"1\" class=\"dataframe\">\n",
       "  <thead>\n",
       "    <tr style=\"text-align: right;\">\n",
       "      <th></th>\n",
       "      <th>date</th>\n",
       "      <th>metro</th>\n",
       "      <th>pageviews</th>\n",
       "    </tr>\n",
       "  </thead>\n",
       "  <tbody>\n",
       "    <tr>\n",
       "      <th>0</th>\n",
       "      <td>20180101</td>\n",
       "      <td>Roanoke-Lynchburg VA</td>\n",
       "      <td>66062</td>\n",
       "    </tr>\n",
       "    <tr>\n",
       "      <th>1</th>\n",
       "      <td>20180101</td>\n",
       "      <td>Davenport IA-Rock Island-Moline IL</td>\n",
       "      <td>42885</td>\n",
       "    </tr>\n",
       "    <tr>\n",
       "      <th>2</th>\n",
       "      <td>20180101</td>\n",
       "      <td>Paducah KY-Cape Girardeau MO-Harrisburg-Mount ...</td>\n",
       "      <td>30825</td>\n",
       "    </tr>\n",
       "    <tr>\n",
       "      <th>3</th>\n",
       "      <td>20180101</td>\n",
       "      <td>Terre Haute IN</td>\n",
       "      <td>11963</td>\n",
       "    </tr>\n",
       "    <tr>\n",
       "      <th>4</th>\n",
       "      <td>20180101</td>\n",
       "      <td>Tampa-St. Petersburg (Sarasota) FL</td>\n",
       "      <td>395547</td>\n",
       "    </tr>\n",
       "  </tbody>\n",
       "</table>\n",
       "</div>"
      ],
      "text/plain": [
       "       date                                              metro  pageviews\n",
       "0  20180101                               Roanoke-Lynchburg VA      66062\n",
       "1  20180101                 Davenport IA-Rock Island-Moline IL      42885\n",
       "2  20180101  Paducah KY-Cape Girardeau MO-Harrisburg-Mount ...      30825\n",
       "3  20180101                                     Terre Haute IN      11963\n",
       "4  20180101                 Tampa-St. Petersburg (Sarasota) FL     395547"
      ]
     },
     "execution_count": 5,
     "metadata": {},
     "output_type": "execute_result"
    }
   ],
   "source": [
    "pv_us.head()"
   ]
  },
  {
   "cell_type": "code",
   "execution_count": 6,
   "metadata": {},
   "outputs": [],
   "source": [
    "wx_us = pd.read_csv('//ictfilesrv/wta/Accu_Internal_D3_Projects/Pavani/Google_Big_Query_Project/WX-PC/mweb_wx_us_bymetro2018.csv')"
   ]
  },
  {
   "cell_type": "code",
   "execution_count": 7,
   "metadata": {},
   "outputs": [
    {
     "data": {
      "text/html": [
       "<div>\n",
       "<style scoped>\n",
       "    .dataframe tbody tr th:only-of-type {\n",
       "        vertical-align: middle;\n",
       "    }\n",
       "\n",
       "    .dataframe tbody tr th {\n",
       "        vertical-align: top;\n",
       "    }\n",
       "\n",
       "    .dataframe thead th {\n",
       "        text-align: right;\n",
       "    }\n",
       "</style>\n",
       "<table border=\"1\" class=\"dataframe\">\n",
       "  <thead>\n",
       "    <tr style=\"text-align: right;\">\n",
       "      <th></th>\n",
       "      <th>date</th>\n",
       "      <th>metro</th>\n",
       "      <th>cur_temp_avg</th>\n",
       "      <th>cur_humidity_avg</th>\n",
       "      <th>cur_wind_avg</th>\n",
       "    </tr>\n",
       "  </thead>\n",
       "  <tbody>\n",
       "    <tr>\n",
       "      <th>0</th>\n",
       "      <td>2018-07-26</td>\n",
       "      <td>Cedar Rapids-Waterloo-Iowa City &amp; Dubuque IA</td>\n",
       "      <td>70.975</td>\n",
       "      <td>72.655</td>\n",
       "      <td>9.070</td>\n",
       "    </tr>\n",
       "    <tr>\n",
       "      <th>1</th>\n",
       "      <td>2018-11-18</td>\n",
       "      <td>Denver CO</td>\n",
       "      <td>34.232</td>\n",
       "      <td>68.920</td>\n",
       "      <td>4.834</td>\n",
       "    </tr>\n",
       "    <tr>\n",
       "      <th>2</th>\n",
       "      <td>2018-07-11</td>\n",
       "      <td>Idaho Falls-Pocatello ID</td>\n",
       "      <td>77.425</td>\n",
       "      <td>38.650</td>\n",
       "      <td>9.050</td>\n",
       "    </tr>\n",
       "    <tr>\n",
       "      <th>3</th>\n",
       "      <td>2018-06-06</td>\n",
       "      <td>Detroit MI</td>\n",
       "      <td>62.920</td>\n",
       "      <td>62.483</td>\n",
       "      <td>5.646</td>\n",
       "    </tr>\n",
       "    <tr>\n",
       "      <th>4</th>\n",
       "      <td>2018-08-08</td>\n",
       "      <td>Portland-Auburn ME</td>\n",
       "      <td>78.583</td>\n",
       "      <td>80.242</td>\n",
       "      <td>4.385</td>\n",
       "    </tr>\n",
       "  </tbody>\n",
       "</table>\n",
       "</div>"
      ],
      "text/plain": [
       "         date                                         metro  cur_temp_avg  \\\n",
       "0  2018-07-26  Cedar Rapids-Waterloo-Iowa City & Dubuque IA        70.975   \n",
       "1  2018-11-18                                     Denver CO        34.232   \n",
       "2  2018-07-11                      Idaho Falls-Pocatello ID        77.425   \n",
       "3  2018-06-06                                    Detroit MI        62.920   \n",
       "4  2018-08-08                            Portland-Auburn ME        78.583   \n",
       "\n",
       "   cur_humidity_avg  cur_wind_avg  \n",
       "0            72.655         9.070  \n",
       "1            68.920         4.834  \n",
       "2            38.650         9.050  \n",
       "3            62.483         5.646  \n",
       "4            80.242         4.385  "
      ]
     },
     "execution_count": 7,
     "metadata": {},
     "output_type": "execute_result"
    }
   ],
   "source": [
    "wx_us.head()"
   ]
  },
  {
   "cell_type": "code",
   "execution_count": 8,
   "metadata": {},
   "outputs": [],
   "source": [
    "# REGRESSION\n",
    "# DIFFERENT ALGORITHMS\n",
    "# RMSE ~ EVALUATION METRIC \n",
    "# WHICH WEATHE RVARAIBLE IMPACT THE PAGE VIEW MOST\n",
    "# FREEDOM OF CHOOSING ALG\n",
    "# METRO AND DATE JOIN ON METRO AND DATE"
   ]
  },
  {
   "cell_type": "code",
   "execution_count": 9,
   "metadata": {},
   "outputs": [
    {
     "name": "stdout",
     "output_type": "stream",
     "text": [
      "<class 'pandas.core.frame.DataFrame'>\n",
      "RangeIndex: 76969 entries, 0 to 76968\n",
      "Data columns (total 3 columns):\n",
      "date         76969 non-null int64\n",
      "metro        76969 non-null object\n",
      "pageviews    76969 non-null int64\n",
      "dtypes: int64(2), object(1)\n",
      "memory usage: 1.8+ MB\n",
      "None\n",
      "<class 'pandas.core.frame.DataFrame'>\n",
      "RangeIndex: 76965 entries, 0 to 76964\n",
      "Data columns (total 5 columns):\n",
      "date                76965 non-null object\n",
      "metro               76965 non-null object\n",
      "cur_temp_avg        76961 non-null float64\n",
      "cur_humidity_avg    76965 non-null float64\n",
      "cur_wind_avg        76965 non-null float64\n",
      "dtypes: float64(3), object(2)\n",
      "memory usage: 2.9+ MB\n",
      "None\n"
     ]
    }
   ],
   "source": [
    "print(pv_us.info())\n",
    "print(wx_us.info())"
   ]
  },
  {
   "cell_type": "code",
   "execution_count": 10,
   "metadata": {},
   "outputs": [],
   "source": [
    "pv_us['date'] = pv_us['date'].astype(object)\n",
    "pv_us['date'] = pd.to_datetime(pv_us['date'],format='%Y%m%d')\n",
    "wx_us['date'] = pd.to_datetime(wx_us['date'])\n"
   ]
  },
  {
   "cell_type": "code",
   "execution_count": 11,
   "metadata": {},
   "outputs": [
    {
     "data": {
      "text/html": [
       "<div>\n",
       "<style scoped>\n",
       "    .dataframe tbody tr th:only-of-type {\n",
       "        vertical-align: middle;\n",
       "    }\n",
       "\n",
       "    .dataframe tbody tr th {\n",
       "        vertical-align: top;\n",
       "    }\n",
       "\n",
       "    .dataframe thead th {\n",
       "        text-align: right;\n",
       "    }\n",
       "</style>\n",
       "<table border=\"1\" class=\"dataframe\">\n",
       "  <thead>\n",
       "    <tr style=\"text-align: right;\">\n",
       "      <th></th>\n",
       "      <th>date</th>\n",
       "      <th>metro</th>\n",
       "      <th>cur_temp_avg</th>\n",
       "      <th>cur_humidity_avg</th>\n",
       "      <th>cur_wind_avg</th>\n",
       "    </tr>\n",
       "  </thead>\n",
       "  <tbody>\n",
       "    <tr>\n",
       "      <th>0</th>\n",
       "      <td>2018-07-26</td>\n",
       "      <td>Cedar Rapids-Waterloo-Iowa City &amp; Dubuque IA</td>\n",
       "      <td>70.975</td>\n",
       "      <td>72.655</td>\n",
       "      <td>9.070</td>\n",
       "    </tr>\n",
       "    <tr>\n",
       "      <th>1</th>\n",
       "      <td>2018-11-18</td>\n",
       "      <td>Denver CO</td>\n",
       "      <td>34.232</td>\n",
       "      <td>68.920</td>\n",
       "      <td>4.834</td>\n",
       "    </tr>\n",
       "    <tr>\n",
       "      <th>2</th>\n",
       "      <td>2018-07-11</td>\n",
       "      <td>Idaho Falls-Pocatello ID</td>\n",
       "      <td>77.425</td>\n",
       "      <td>38.650</td>\n",
       "      <td>9.050</td>\n",
       "    </tr>\n",
       "    <tr>\n",
       "      <th>3</th>\n",
       "      <td>2018-06-06</td>\n",
       "      <td>Detroit MI</td>\n",
       "      <td>62.920</td>\n",
       "      <td>62.483</td>\n",
       "      <td>5.646</td>\n",
       "    </tr>\n",
       "    <tr>\n",
       "      <th>4</th>\n",
       "      <td>2018-08-08</td>\n",
       "      <td>Portland-Auburn ME</td>\n",
       "      <td>78.583</td>\n",
       "      <td>80.242</td>\n",
       "      <td>4.385</td>\n",
       "    </tr>\n",
       "  </tbody>\n",
       "</table>\n",
       "</div>"
      ],
      "text/plain": [
       "        date                                         metro  cur_temp_avg  \\\n",
       "0 2018-07-26  Cedar Rapids-Waterloo-Iowa City & Dubuque IA        70.975   \n",
       "1 2018-11-18                                     Denver CO        34.232   \n",
       "2 2018-07-11                      Idaho Falls-Pocatello ID        77.425   \n",
       "3 2018-06-06                                    Detroit MI        62.920   \n",
       "4 2018-08-08                            Portland-Auburn ME        78.583   \n",
       "\n",
       "   cur_humidity_avg  cur_wind_avg  \n",
       "0            72.655         9.070  \n",
       "1            68.920         4.834  \n",
       "2            38.650         9.050  \n",
       "3            62.483         5.646  \n",
       "4            80.242         4.385  "
      ]
     },
     "execution_count": 11,
     "metadata": {},
     "output_type": "execute_result"
    }
   ],
   "source": [
    "wx_us.head()"
   ]
  },
  {
   "cell_type": "code",
   "execution_count": 12,
   "metadata": {},
   "outputs": [
    {
     "data": {
      "text/html": [
       "<div>\n",
       "<style scoped>\n",
       "    .dataframe tbody tr th:only-of-type {\n",
       "        vertical-align: middle;\n",
       "    }\n",
       "\n",
       "    .dataframe tbody tr th {\n",
       "        vertical-align: top;\n",
       "    }\n",
       "\n",
       "    .dataframe thead th {\n",
       "        text-align: right;\n",
       "    }\n",
       "</style>\n",
       "<table border=\"1\" class=\"dataframe\">\n",
       "  <thead>\n",
       "    <tr style=\"text-align: right;\">\n",
       "      <th></th>\n",
       "      <th>date</th>\n",
       "      <th>metro</th>\n",
       "      <th>pageviews</th>\n",
       "    </tr>\n",
       "  </thead>\n",
       "  <tbody>\n",
       "    <tr>\n",
       "      <th>0</th>\n",
       "      <td>2018-01-01</td>\n",
       "      <td>Roanoke-Lynchburg VA</td>\n",
       "      <td>66062</td>\n",
       "    </tr>\n",
       "    <tr>\n",
       "      <th>1</th>\n",
       "      <td>2018-01-01</td>\n",
       "      <td>Davenport IA-Rock Island-Moline IL</td>\n",
       "      <td>42885</td>\n",
       "    </tr>\n",
       "    <tr>\n",
       "      <th>2</th>\n",
       "      <td>2018-01-01</td>\n",
       "      <td>Paducah KY-Cape Girardeau MO-Harrisburg-Mount ...</td>\n",
       "      <td>30825</td>\n",
       "    </tr>\n",
       "    <tr>\n",
       "      <th>3</th>\n",
       "      <td>2018-01-01</td>\n",
       "      <td>Terre Haute IN</td>\n",
       "      <td>11963</td>\n",
       "    </tr>\n",
       "    <tr>\n",
       "      <th>4</th>\n",
       "      <td>2018-01-01</td>\n",
       "      <td>Tampa-St. Petersburg (Sarasota) FL</td>\n",
       "      <td>395547</td>\n",
       "    </tr>\n",
       "  </tbody>\n",
       "</table>\n",
       "</div>"
      ],
      "text/plain": [
       "        date                                              metro  pageviews\n",
       "0 2018-01-01                               Roanoke-Lynchburg VA      66062\n",
       "1 2018-01-01                 Davenport IA-Rock Island-Moline IL      42885\n",
       "2 2018-01-01  Paducah KY-Cape Girardeau MO-Harrisburg-Mount ...      30825\n",
       "3 2018-01-01                                     Terre Haute IN      11963\n",
       "4 2018-01-01                 Tampa-St. Petersburg (Sarasota) FL     395547"
      ]
     },
     "execution_count": 12,
     "metadata": {},
     "output_type": "execute_result"
    }
   ],
   "source": [
    "pv_us.head()"
   ]
  },
  {
   "cell_type": "code",
   "execution_count": 13,
   "metadata": {},
   "outputs": [
    {
     "name": "stdout",
     "output_type": "stream",
     "text": [
      "<class 'pandas.core.frame.DataFrame'>\n",
      "RangeIndex: 76969 entries, 0 to 76968\n",
      "Data columns (total 3 columns):\n",
      "date         76969 non-null datetime64[ns]\n",
      "metro        76969 non-null object\n",
      "pageviews    76969 non-null int64\n",
      "dtypes: datetime64[ns](1), int64(1), object(1)\n",
      "memory usage: 1.8+ MB\n",
      "None\n",
      "<class 'pandas.core.frame.DataFrame'>\n",
      "RangeIndex: 76965 entries, 0 to 76964\n",
      "Data columns (total 5 columns):\n",
      "date                76965 non-null datetime64[ns]\n",
      "metro               76965 non-null object\n",
      "cur_temp_avg        76961 non-null float64\n",
      "cur_humidity_avg    76965 non-null float64\n",
      "cur_wind_avg        76965 non-null float64\n",
      "dtypes: datetime64[ns](1), float64(3), object(1)\n",
      "memory usage: 2.9+ MB\n",
      "None\n"
     ]
    }
   ],
   "source": [
    "print(pv_us.info())\n",
    "print(wx_us.info())"
   ]
  },
  {
   "cell_type": "code",
   "execution_count": 14,
   "metadata": {},
   "outputs": [],
   "source": [
    "# wx_us['date']=pd.to_datetime(wx_us['date'])\n",
    "# pv_us['date']=pd.to_datetime(pv_us['date'])\n",
    "# print(wx_us.head())\n",
    "# print(pv_us.head())"
   ]
  },
  {
   "cell_type": "code",
   "execution_count": 15,
   "metadata": {},
   "outputs": [],
   "source": [
    "pv_wx =pd.merge(pv_us,wx_us, on=['date', 'metro'])"
   ]
  },
  {
   "cell_type": "code",
   "execution_count": 16,
   "metadata": {},
   "outputs": [
    {
     "data": {
      "text/plain": [
       "date                0\n",
       "metro               0\n",
       "pageviews           0\n",
       "cur_temp_avg        0\n",
       "cur_humidity_avg    0\n",
       "cur_wind_avg        0\n",
       "dtype: int64"
      ]
     },
     "execution_count": 16,
     "metadata": {},
     "output_type": "execute_result"
    }
   ],
   "source": [
    "pv_wx.isnull().sum()"
   ]
  },
  {
   "cell_type": "code",
   "execution_count": 17,
   "metadata": {},
   "outputs": [
    {
     "data": {
      "text/plain": [
       "array(['2018-01-01T00:00:00.000000000', '2018-01-02T00:00:00.000000000',\n",
       "       '2018-01-03T00:00:00.000000000', '2018-01-04T00:00:00.000000000',\n",
       "       '2018-01-05T00:00:00.000000000', '2018-01-06T00:00:00.000000000',\n",
       "       '2018-01-07T00:00:00.000000000', '2018-01-08T00:00:00.000000000',\n",
       "       '2018-01-09T00:00:00.000000000', '2018-01-10T00:00:00.000000000',\n",
       "       '2018-01-11T00:00:00.000000000', '2018-01-12T00:00:00.000000000',\n",
       "       '2018-01-13T00:00:00.000000000', '2018-01-14T00:00:00.000000000',\n",
       "       '2018-01-15T00:00:00.000000000', '2018-01-16T00:00:00.000000000',\n",
       "       '2018-01-17T00:00:00.000000000', '2018-01-18T00:00:00.000000000',\n",
       "       '2018-01-19T00:00:00.000000000', '2018-01-20T00:00:00.000000000',\n",
       "       '2018-01-21T00:00:00.000000000', '2018-01-22T00:00:00.000000000',\n",
       "       '2018-01-23T00:00:00.000000000', '2018-01-24T00:00:00.000000000',\n",
       "       '2018-01-25T00:00:00.000000000', '2018-01-26T00:00:00.000000000',\n",
       "       '2018-01-27T00:00:00.000000000', '2018-01-28T00:00:00.000000000',\n",
       "       '2018-01-29T00:00:00.000000000', '2018-01-30T00:00:00.000000000',\n",
       "       '2018-01-31T00:00:00.000000000', '2018-02-01T00:00:00.000000000',\n",
       "       '2018-02-02T00:00:00.000000000', '2018-02-03T00:00:00.000000000',\n",
       "       '2018-02-04T00:00:00.000000000', '2018-02-05T00:00:00.000000000',\n",
       "       '2018-02-06T00:00:00.000000000', '2018-02-07T00:00:00.000000000',\n",
       "       '2018-02-08T00:00:00.000000000', '2018-02-09T00:00:00.000000000',\n",
       "       '2018-02-10T00:00:00.000000000', '2018-02-11T00:00:00.000000000',\n",
       "       '2018-02-12T00:00:00.000000000', '2018-02-13T00:00:00.000000000',\n",
       "       '2018-02-14T00:00:00.000000000', '2018-02-15T00:00:00.000000000',\n",
       "       '2018-02-16T00:00:00.000000000', '2018-02-17T00:00:00.000000000',\n",
       "       '2018-02-18T00:00:00.000000000', '2018-02-19T00:00:00.000000000',\n",
       "       '2018-02-20T00:00:00.000000000', '2018-02-21T00:00:00.000000000',\n",
       "       '2018-02-22T00:00:00.000000000', '2018-02-23T00:00:00.000000000',\n",
       "       '2018-02-24T00:00:00.000000000', '2018-02-25T00:00:00.000000000',\n",
       "       '2018-02-26T00:00:00.000000000', '2018-02-27T00:00:00.000000000',\n",
       "       '2018-02-28T00:00:00.000000000', '2018-03-01T00:00:00.000000000',\n",
       "       '2018-03-02T00:00:00.000000000', '2018-03-03T00:00:00.000000000',\n",
       "       '2018-03-04T00:00:00.000000000', '2018-03-05T00:00:00.000000000',\n",
       "       '2018-03-06T00:00:00.000000000', '2018-03-07T00:00:00.000000000',\n",
       "       '2018-03-08T00:00:00.000000000', '2018-03-09T00:00:00.000000000',\n",
       "       '2018-03-10T00:00:00.000000000', '2018-03-11T00:00:00.000000000',\n",
       "       '2018-03-12T00:00:00.000000000', '2018-03-13T00:00:00.000000000',\n",
       "       '2018-03-14T00:00:00.000000000', '2018-03-15T00:00:00.000000000',\n",
       "       '2018-03-16T00:00:00.000000000', '2018-03-17T00:00:00.000000000',\n",
       "       '2018-03-18T00:00:00.000000000', '2018-03-19T00:00:00.000000000',\n",
       "       '2018-03-20T00:00:00.000000000', '2018-03-21T00:00:00.000000000',\n",
       "       '2018-03-22T00:00:00.000000000', '2018-03-23T00:00:00.000000000',\n",
       "       '2018-03-24T00:00:00.000000000', '2018-03-25T00:00:00.000000000',\n",
       "       '2018-03-26T00:00:00.000000000', '2018-03-27T00:00:00.000000000',\n",
       "       '2018-03-28T00:00:00.000000000', '2018-03-29T00:00:00.000000000',\n",
       "       '2018-03-30T00:00:00.000000000', '2018-03-31T00:00:00.000000000',\n",
       "       '2018-04-01T00:00:00.000000000', '2018-04-02T00:00:00.000000000',\n",
       "       '2018-04-03T00:00:00.000000000', '2018-04-04T00:00:00.000000000',\n",
       "       '2018-04-05T00:00:00.000000000', '2018-04-06T00:00:00.000000000',\n",
       "       '2018-04-07T00:00:00.000000000', '2018-04-08T00:00:00.000000000',\n",
       "       '2018-04-09T00:00:00.000000000', '2018-04-10T00:00:00.000000000',\n",
       "       '2018-04-11T00:00:00.000000000', '2018-04-12T00:00:00.000000000',\n",
       "       '2018-04-13T00:00:00.000000000', '2018-04-14T00:00:00.000000000',\n",
       "       '2018-04-15T00:00:00.000000000', '2018-04-16T00:00:00.000000000',\n",
       "       '2018-04-17T00:00:00.000000000', '2018-04-18T00:00:00.000000000',\n",
       "       '2018-04-19T00:00:00.000000000', '2018-04-20T00:00:00.000000000',\n",
       "       '2018-04-21T00:00:00.000000000', '2018-04-22T00:00:00.000000000',\n",
       "       '2018-04-23T00:00:00.000000000', '2018-04-24T00:00:00.000000000',\n",
       "       '2018-04-25T00:00:00.000000000', '2018-04-26T00:00:00.000000000',\n",
       "       '2018-04-27T00:00:00.000000000', '2018-04-28T00:00:00.000000000',\n",
       "       '2018-04-29T00:00:00.000000000', '2018-04-30T00:00:00.000000000',\n",
       "       '2018-05-01T00:00:00.000000000', '2018-05-02T00:00:00.000000000',\n",
       "       '2018-05-03T00:00:00.000000000', '2018-05-04T00:00:00.000000000',\n",
       "       '2018-05-05T00:00:00.000000000', '2018-05-06T00:00:00.000000000',\n",
       "       '2018-05-07T00:00:00.000000000', '2018-05-08T00:00:00.000000000',\n",
       "       '2018-05-09T00:00:00.000000000', '2018-05-10T00:00:00.000000000',\n",
       "       '2018-05-11T00:00:00.000000000', '2018-05-12T00:00:00.000000000',\n",
       "       '2018-05-13T00:00:00.000000000', '2018-05-14T00:00:00.000000000',\n",
       "       '2018-05-15T00:00:00.000000000', '2018-05-16T00:00:00.000000000',\n",
       "       '2018-05-17T00:00:00.000000000', '2018-05-18T00:00:00.000000000',\n",
       "       '2018-05-19T00:00:00.000000000', '2018-05-20T00:00:00.000000000',\n",
       "       '2018-05-21T00:00:00.000000000', '2018-05-22T00:00:00.000000000',\n",
       "       '2018-05-23T00:00:00.000000000', '2018-05-24T00:00:00.000000000',\n",
       "       '2018-05-25T00:00:00.000000000', '2018-05-26T00:00:00.000000000',\n",
       "       '2018-05-27T00:00:00.000000000', '2018-05-28T00:00:00.000000000',\n",
       "       '2018-05-29T00:00:00.000000000', '2018-05-30T00:00:00.000000000',\n",
       "       '2018-05-31T00:00:00.000000000', '2018-06-01T00:00:00.000000000',\n",
       "       '2018-06-02T00:00:00.000000000', '2018-06-03T00:00:00.000000000',\n",
       "       '2018-06-04T00:00:00.000000000', '2018-06-05T00:00:00.000000000',\n",
       "       '2018-06-06T00:00:00.000000000', '2018-06-07T00:00:00.000000000',\n",
       "       '2018-06-08T00:00:00.000000000', '2018-06-09T00:00:00.000000000',\n",
       "       '2018-06-10T00:00:00.000000000', '2018-06-11T00:00:00.000000000',\n",
       "       '2018-06-12T00:00:00.000000000', '2018-06-13T00:00:00.000000000',\n",
       "       '2018-06-14T00:00:00.000000000', '2018-06-15T00:00:00.000000000',\n",
       "       '2018-06-16T00:00:00.000000000', '2018-06-17T00:00:00.000000000',\n",
       "       '2018-06-18T00:00:00.000000000', '2018-06-19T00:00:00.000000000',\n",
       "       '2018-06-20T00:00:00.000000000', '2018-06-21T00:00:00.000000000',\n",
       "       '2018-06-22T00:00:00.000000000', '2018-06-23T00:00:00.000000000',\n",
       "       '2018-06-24T00:00:00.000000000', '2018-06-25T00:00:00.000000000',\n",
       "       '2018-06-26T00:00:00.000000000', '2018-06-27T00:00:00.000000000',\n",
       "       '2018-06-28T00:00:00.000000000', '2018-06-29T00:00:00.000000000',\n",
       "       '2018-06-30T00:00:00.000000000', '2018-07-01T00:00:00.000000000',\n",
       "       '2018-07-02T00:00:00.000000000', '2018-07-03T00:00:00.000000000',\n",
       "       '2018-07-04T00:00:00.000000000', '2018-07-05T00:00:00.000000000',\n",
       "       '2018-07-06T00:00:00.000000000', '2018-07-07T00:00:00.000000000',\n",
       "       '2018-07-08T00:00:00.000000000', '2018-07-09T00:00:00.000000000',\n",
       "       '2018-07-10T00:00:00.000000000', '2018-07-11T00:00:00.000000000',\n",
       "       '2018-07-12T00:00:00.000000000', '2018-07-13T00:00:00.000000000',\n",
       "       '2018-07-14T00:00:00.000000000', '2018-07-15T00:00:00.000000000',\n",
       "       '2018-07-16T00:00:00.000000000', '2018-07-17T00:00:00.000000000',\n",
       "       '2018-07-18T00:00:00.000000000', '2018-07-19T00:00:00.000000000',\n",
       "       '2018-07-20T00:00:00.000000000', '2018-07-21T00:00:00.000000000',\n",
       "       '2018-07-22T00:00:00.000000000', '2018-07-23T00:00:00.000000000',\n",
       "       '2018-07-24T00:00:00.000000000', '2018-07-25T00:00:00.000000000',\n",
       "       '2018-07-26T00:00:00.000000000', '2018-07-27T00:00:00.000000000',\n",
       "       '2018-07-28T00:00:00.000000000', '2018-07-29T00:00:00.000000000',\n",
       "       '2018-07-30T00:00:00.000000000', '2018-07-31T00:00:00.000000000',\n",
       "       '2018-08-01T00:00:00.000000000', '2018-08-02T00:00:00.000000000',\n",
       "       '2018-08-03T00:00:00.000000000', '2018-08-04T00:00:00.000000000',\n",
       "       '2018-08-05T00:00:00.000000000', '2018-08-06T00:00:00.000000000',\n",
       "       '2018-08-07T00:00:00.000000000', '2018-08-08T00:00:00.000000000',\n",
       "       '2018-08-09T00:00:00.000000000', '2018-08-10T00:00:00.000000000',\n",
       "       '2018-08-11T00:00:00.000000000', '2018-08-12T00:00:00.000000000',\n",
       "       '2018-08-13T00:00:00.000000000', '2018-08-14T00:00:00.000000000',\n",
       "       '2018-08-15T00:00:00.000000000', '2018-08-16T00:00:00.000000000',\n",
       "       '2018-08-17T00:00:00.000000000', '2018-08-18T00:00:00.000000000',\n",
       "       '2018-08-19T00:00:00.000000000', '2018-08-20T00:00:00.000000000',\n",
       "       '2018-08-21T00:00:00.000000000', '2018-08-22T00:00:00.000000000',\n",
       "       '2018-08-23T00:00:00.000000000', '2018-08-24T00:00:00.000000000',\n",
       "       '2018-08-25T00:00:00.000000000', '2018-08-26T00:00:00.000000000',\n",
       "       '2018-08-27T00:00:00.000000000', '2018-08-28T00:00:00.000000000',\n",
       "       '2018-08-29T00:00:00.000000000', '2018-08-30T00:00:00.000000000',\n",
       "       '2018-08-31T00:00:00.000000000', '2018-09-01T00:00:00.000000000',\n",
       "       '2018-09-02T00:00:00.000000000', '2018-09-03T00:00:00.000000000',\n",
       "       '2018-09-04T00:00:00.000000000', '2018-09-05T00:00:00.000000000',\n",
       "       '2018-09-06T00:00:00.000000000', '2018-09-07T00:00:00.000000000',\n",
       "       '2018-09-08T00:00:00.000000000', '2018-09-09T00:00:00.000000000',\n",
       "       '2018-09-10T00:00:00.000000000', '2018-09-11T00:00:00.000000000',\n",
       "       '2018-09-12T00:00:00.000000000', '2018-09-13T00:00:00.000000000',\n",
       "       '2018-09-14T00:00:00.000000000', '2018-09-15T00:00:00.000000000',\n",
       "       '2018-09-16T00:00:00.000000000', '2018-09-17T00:00:00.000000000',\n",
       "       '2018-09-18T00:00:00.000000000', '2018-09-19T00:00:00.000000000',\n",
       "       '2018-09-20T00:00:00.000000000', '2018-09-21T00:00:00.000000000',\n",
       "       '2018-09-22T00:00:00.000000000', '2018-09-23T00:00:00.000000000',\n",
       "       '2018-09-24T00:00:00.000000000', '2018-09-25T00:00:00.000000000',\n",
       "       '2018-09-26T00:00:00.000000000', '2018-09-27T00:00:00.000000000',\n",
       "       '2018-09-28T00:00:00.000000000', '2018-09-29T00:00:00.000000000',\n",
       "       '2018-09-30T00:00:00.000000000', '2018-10-01T00:00:00.000000000',\n",
       "       '2018-10-02T00:00:00.000000000', '2018-10-03T00:00:00.000000000',\n",
       "       '2018-10-04T00:00:00.000000000', '2018-10-05T00:00:00.000000000',\n",
       "       '2018-10-06T00:00:00.000000000', '2018-10-07T00:00:00.000000000',\n",
       "       '2018-10-08T00:00:00.000000000', '2018-10-09T00:00:00.000000000',\n",
       "       '2018-10-10T00:00:00.000000000', '2018-10-11T00:00:00.000000000',\n",
       "       '2018-10-12T00:00:00.000000000', '2018-10-13T00:00:00.000000000',\n",
       "       '2018-10-14T00:00:00.000000000', '2018-10-15T00:00:00.000000000',\n",
       "       '2018-10-16T00:00:00.000000000', '2018-10-17T00:00:00.000000000',\n",
       "       '2018-10-18T00:00:00.000000000', '2018-10-19T00:00:00.000000000',\n",
       "       '2018-10-20T00:00:00.000000000', '2018-10-21T00:00:00.000000000',\n",
       "       '2018-10-22T00:00:00.000000000', '2018-10-23T00:00:00.000000000',\n",
       "       '2018-10-24T00:00:00.000000000', '2018-10-25T00:00:00.000000000',\n",
       "       '2018-10-26T00:00:00.000000000', '2018-10-27T00:00:00.000000000',\n",
       "       '2018-10-28T00:00:00.000000000', '2018-10-29T00:00:00.000000000',\n",
       "       '2018-10-30T00:00:00.000000000', '2018-10-31T00:00:00.000000000',\n",
       "       '2018-11-01T00:00:00.000000000', '2018-11-02T00:00:00.000000000',\n",
       "       '2018-11-03T00:00:00.000000000', '2018-11-04T00:00:00.000000000',\n",
       "       '2018-11-05T00:00:00.000000000', '2018-11-06T00:00:00.000000000',\n",
       "       '2018-11-07T00:00:00.000000000', '2018-11-08T00:00:00.000000000',\n",
       "       '2018-11-09T00:00:00.000000000', '2018-11-10T00:00:00.000000000',\n",
       "       '2018-11-11T00:00:00.000000000', '2018-11-12T00:00:00.000000000',\n",
       "       '2018-11-13T00:00:00.000000000', '2018-11-14T00:00:00.000000000',\n",
       "       '2018-11-15T00:00:00.000000000', '2018-11-16T00:00:00.000000000',\n",
       "       '2018-11-17T00:00:00.000000000', '2018-11-18T00:00:00.000000000',\n",
       "       '2018-11-19T00:00:00.000000000', '2018-11-20T00:00:00.000000000',\n",
       "       '2018-11-21T00:00:00.000000000', '2018-11-22T00:00:00.000000000',\n",
       "       '2018-11-23T00:00:00.000000000', '2018-11-24T00:00:00.000000000',\n",
       "       '2018-11-25T00:00:00.000000000', '2018-11-26T00:00:00.000000000',\n",
       "       '2018-11-27T00:00:00.000000000', '2018-11-28T00:00:00.000000000',\n",
       "       '2018-11-29T00:00:00.000000000', '2018-11-30T00:00:00.000000000',\n",
       "       '2018-12-01T00:00:00.000000000', '2018-12-02T00:00:00.000000000',\n",
       "       '2018-12-03T00:00:00.000000000', '2018-12-04T00:00:00.000000000',\n",
       "       '2018-12-05T00:00:00.000000000', '2018-12-06T00:00:00.000000000',\n",
       "       '2018-12-07T00:00:00.000000000', '2018-12-08T00:00:00.000000000',\n",
       "       '2018-12-09T00:00:00.000000000', '2018-12-10T00:00:00.000000000',\n",
       "       '2018-12-11T00:00:00.000000000', '2018-12-12T00:00:00.000000000',\n",
       "       '2018-12-13T00:00:00.000000000', '2018-12-14T00:00:00.000000000',\n",
       "       '2018-12-15T00:00:00.000000000', '2018-12-16T00:00:00.000000000',\n",
       "       '2018-12-17T00:00:00.000000000', '2018-12-18T00:00:00.000000000',\n",
       "       '2018-12-19T00:00:00.000000000', '2018-12-20T00:00:00.000000000',\n",
       "       '2018-12-21T00:00:00.000000000', '2018-12-22T00:00:00.000000000',\n",
       "       '2018-12-23T00:00:00.000000000', '2018-12-24T00:00:00.000000000',\n",
       "       '2018-12-25T00:00:00.000000000', '2018-12-26T00:00:00.000000000',\n",
       "       '2018-12-27T00:00:00.000000000', '2018-12-28T00:00:00.000000000',\n",
       "       '2018-12-29T00:00:00.000000000', '2018-12-30T00:00:00.000000000',\n",
       "       '2018-12-31T00:00:00.000000000'], dtype='datetime64[ns]')"
      ]
     },
     "execution_count": 17,
     "metadata": {},
     "output_type": "execute_result"
    }
   ],
   "source": [
    "pv_wx['date'].unique()"
   ]
  },
  {
   "cell_type": "markdown",
   "metadata": {},
   "source": [
    "Checking distribution of pageviews"
   ]
  },
  {
   "cell_type": "code",
   "execution_count": 18,
   "metadata": {},
   "outputs": [
    {
     "name": "stderr",
     "output_type": "stream",
     "text": [
      "C:\\Users\\pavani.nrusimhdevara\\AppData\\Local\\Continuum\\anaconda3\\lib\\site-packages\\scipy\\stats\\stats.py:1713: FutureWarning: Using a non-tuple sequence for multidimensional indexing is deprecated; use `arr[tuple(seq)]` instead of `arr[seq]`. In the future this will be interpreted as an array index, `arr[np.array(seq)]`, which will result either in an error or a different result.\n",
      "  return np.add.reduce(sorted[indexer] * weights, axis=axis) / sumval\n"
     ]
    },
    {
     "data": {
      "text/plain": [
       "<matplotlib.axes._subplots.AxesSubplot at 0x23be9109860>"
      ]
     },
     "execution_count": 18,
     "metadata": {},
     "output_type": "execute_result"
    },
    {
     "data": {
      "image/png": "[encoded data removed]",
      "text/plain": [
       "<Figure size 432x288 with 1 Axes>"
      ]
     },
     "metadata": {
      "needs_background": "light"
     },
     "output_type": "display_data"
    }
   ],
   "source": [
    "sns.distplot(pv_wx['pageviews'])"
   ]
  },
  {
   "cell_type": "code",
   "execution_count": 19,
   "metadata": {},
   "outputs": [],
   "source": [
    "from datetime import date\n",
    "import holidays\n",
    "us_holidays = holidays.US(years = [2018])"
   ]
  },
  {
   "cell_type": "code",
   "execution_count": 20,
   "metadata": {},
   "outputs": [
    {
     "data": {
      "text/plain": [
       "{datetime.date(2018, 1, 1): \"New Year's Day\",\n",
       " datetime.date(2018, 1, 15): 'Martin Luther King, Jr. Day',\n",
       " datetime.date(2018, 2, 19): \"Washington's Birthday\",\n",
       " datetime.date(2018, 5, 28): 'Memorial Day',\n",
       " datetime.date(2018, 7, 4): 'Independence Day',\n",
       " datetime.date(2018, 9, 3): 'Labor Day',\n",
       " datetime.date(2018, 10, 8): 'Columbus Day',\n",
       " datetime.date(2018, 11, 11): 'Veterans Day',\n",
       " datetime.date(2018, 11, 12): 'Veterans Day (Observed)',\n",
       " datetime.date(2018, 11, 22): 'Thanksgiving',\n",
       " datetime.date(2018, 12, 25): 'Christmas Day'}"
      ]
     },
     "execution_count": 20,
     "metadata": {},
     "output_type": "execute_result"
    }
   ],
   "source": [
    "us_holidays"
   ]
  },
  {
   "cell_type": "code",
   "execution_count": 21,
   "metadata": {},
   "outputs": [],
   "source": [
    "date1 = '2018-01-01'\n",
    "date2 = '2018-01-15'\n",
    "date3 = '2018-02-19'\n",
    "date4 = '2018-05-28'\n",
    "date5 = '2018-07-04' \n",
    "date6 = '2018-09-03'\n",
    "date7 = '2018-10-08'\n",
    "date8 = '2018-11-11'\n",
    "date9 = '2018-11-12'\n",
    "date10 = '2018-11-22'\n",
    "date11 = '2018-12-25'\n",
    "holidaydates = [date1,date2,date3,date4,date5,date6,date7,date8,date9,date10,date11]"
   ]
  },
  {
   "cell_type": "code",
   "execution_count": 22,
   "metadata": {},
   "outputs": [
    {
     "data": {
      "text/plain": [
       "DatetimeIndex(['2018-01-01', '2018-01-15', '2018-02-19', '2018-05-28',\n",
       "               '2018-07-04', '2018-09-03', '2018-10-08', '2018-11-11',\n",
       "               '2018-11-12', '2018-11-22', '2018-12-25'],\n",
       "              dtype='datetime64[ns]', freq=None)"
      ]
     },
     "execution_count": 22,
     "metadata": {},
     "output_type": "execute_result"
    }
   ],
   "source": [
    "holidaydates = pd.to_datetime(holidaydates)\n",
    "holidaydates"
   ]
  },
  {
   "cell_type": "code",
   "execution_count": 23,
   "metadata": {},
   "outputs": [],
   "source": [
    "pv_wx['holiday_flag']=pv_wx['date'].apply(lambda x: \"True\" if x in holidaydates else \"False\")"
   ]
  },
  {
   "cell_type": "code",
   "execution_count": 24,
   "metadata": {
    "scrolled": true
   },
   "outputs": [
    {
     "data": {
      "text/plain": [
       "array([2018], dtype=int64)"
      ]
     },
     "execution_count": 24,
     "metadata": {},
     "output_type": "execute_result"
    }
   ],
   "source": [
    "from sklearn.preprocessing import LabelEncoder\n",
    "label_encoder = LabelEncoder()\n",
    "\n",
    "pv_wx['month'] = pd.DatetimeIndex(pv_wx['date']).month\n",
    "pv_wx['month_year'] = pd.to_datetime(pv_wx['date']).dt.to_period('M')\n",
    "pv_wx['year'] = pd.DatetimeIndex(pv_wx['date']).year\n",
    "pv_wx['year'].unique()"
   ]
  },
  {
   "cell_type": "code",
   "execution_count": 25,
   "metadata": {},
   "outputs": [],
   "source": [
    "pv_wx['holiday_flag_label']=label_encoder.fit_transform(pv_wx['holiday_flag'])\n",
    "pv_wx['metro_label'] = label_encoder.fit_transform(pv_wx['metro'])"
   ]
  },
  {
   "cell_type": "code",
   "execution_count": 26,
   "metadata": {},
   "outputs": [
    {
     "data": {
      "text/html": [
       "<div>\n",
       "<style scoped>\n",
       "    .dataframe tbody tr th:only-of-type {\n",
       "        vertical-align: middle;\n",
       "    }\n",
       "\n",
       "    .dataframe tbody tr th {\n",
       "        vertical-align: top;\n",
       "    }\n",
       "\n",
       "    .dataframe thead th {\n",
       "        text-align: right;\n",
       "    }\n",
       "</style>\n",
       "<table border=\"1\" class=\"dataframe\">\n",
       "  <thead>\n",
       "    <tr style=\"text-align: right;\">\n",
       "      <th></th>\n",
       "      <th>metro</th>\n",
       "      <th>Count</th>\n",
       "    </tr>\n",
       "  </thead>\n",
       "  <tbody>\n",
       "    <tr>\n",
       "      <th>0</th>\n",
       "      <td>Abilene-Sweetwater TX</td>\n",
       "      <td>365</td>\n",
       "    </tr>\n",
       "    <tr>\n",
       "      <th>1</th>\n",
       "      <td>Albany GA</td>\n",
       "      <td>365</td>\n",
       "    </tr>\n",
       "    <tr>\n",
       "      <th>2</th>\n",
       "      <td>Albany-Schenectady-Troy NY</td>\n",
       "      <td>365</td>\n",
       "    </tr>\n",
       "    <tr>\n",
       "      <th>3</th>\n",
       "      <td>Albuquerque-Santa Fe NM</td>\n",
       "      <td>365</td>\n",
       "    </tr>\n",
       "    <tr>\n",
       "      <th>4</th>\n",
       "      <td>Alexandria LA</td>\n",
       "      <td>365</td>\n",
       "    </tr>\n",
       "    <tr>\n",
       "      <th>5</th>\n",
       "      <td>Alpena MI</td>\n",
       "      <td>365</td>\n",
       "    </tr>\n",
       "    <tr>\n",
       "      <th>6</th>\n",
       "      <td>Amarillo TX</td>\n",
       "      <td>365</td>\n",
       "    </tr>\n",
       "    <tr>\n",
       "      <th>7</th>\n",
       "      <td>Anchorage AK</td>\n",
       "      <td>365</td>\n",
       "    </tr>\n",
       "    <tr>\n",
       "      <th>8</th>\n",
       "      <td>Atlanta GA</td>\n",
       "      <td>365</td>\n",
       "    </tr>\n",
       "    <tr>\n",
       "      <th>9</th>\n",
       "      <td>Augusta GA</td>\n",
       "      <td>365</td>\n",
       "    </tr>\n",
       "    <tr>\n",
       "      <th>10</th>\n",
       "      <td>Austin TX</td>\n",
       "      <td>365</td>\n",
       "    </tr>\n",
       "    <tr>\n",
       "      <th>11</th>\n",
       "      <td>Bakersfield CA</td>\n",
       "      <td>365</td>\n",
       "    </tr>\n",
       "    <tr>\n",
       "      <th>12</th>\n",
       "      <td>Baltimore MD</td>\n",
       "      <td>365</td>\n",
       "    </tr>\n",
       "    <tr>\n",
       "      <th>13</th>\n",
       "      <td>Bangor ME</td>\n",
       "      <td>365</td>\n",
       "    </tr>\n",
       "    <tr>\n",
       "      <th>14</th>\n",
       "      <td>Baton Rouge LA</td>\n",
       "      <td>365</td>\n",
       "    </tr>\n",
       "    <tr>\n",
       "      <th>15</th>\n",
       "      <td>Beaumont-Port Arthur TX</td>\n",
       "      <td>365</td>\n",
       "    </tr>\n",
       "    <tr>\n",
       "      <th>16</th>\n",
       "      <td>Bend OR</td>\n",
       "      <td>365</td>\n",
       "    </tr>\n",
       "    <tr>\n",
       "      <th>17</th>\n",
       "      <td>Billings, MT</td>\n",
       "      <td>365</td>\n",
       "    </tr>\n",
       "    <tr>\n",
       "      <th>18</th>\n",
       "      <td>Biloxi-Gulfport MS</td>\n",
       "      <td>365</td>\n",
       "    </tr>\n",
       "    <tr>\n",
       "      <th>19</th>\n",
       "      <td>Binghamton NY</td>\n",
       "      <td>365</td>\n",
       "    </tr>\n",
       "    <tr>\n",
       "      <th>20</th>\n",
       "      <td>Birmingham (Ann and Tusc) AL</td>\n",
       "      <td>365</td>\n",
       "    </tr>\n",
       "    <tr>\n",
       "      <th>21</th>\n",
       "      <td>Bluefield-Beckley-Oak Hill WV</td>\n",
       "      <td>365</td>\n",
       "    </tr>\n",
       "    <tr>\n",
       "      <th>22</th>\n",
       "      <td>Boise ID</td>\n",
       "      <td>365</td>\n",
       "    </tr>\n",
       "    <tr>\n",
       "      <th>23</th>\n",
       "      <td>Boston MA-Manchester NH</td>\n",
       "      <td>365</td>\n",
       "    </tr>\n",
       "    <tr>\n",
       "      <th>24</th>\n",
       "      <td>Bowling Green KY</td>\n",
       "      <td>365</td>\n",
       "    </tr>\n",
       "    <tr>\n",
       "      <th>25</th>\n",
       "      <td>Buffalo NY</td>\n",
       "      <td>365</td>\n",
       "    </tr>\n",
       "    <tr>\n",
       "      <th>26</th>\n",
       "      <td>Burlington VT-Plattsburgh NY</td>\n",
       "      <td>365</td>\n",
       "    </tr>\n",
       "    <tr>\n",
       "      <th>27</th>\n",
       "      <td>Butte-Bozeman MT</td>\n",
       "      <td>365</td>\n",
       "    </tr>\n",
       "    <tr>\n",
       "      <th>28</th>\n",
       "      <td>Casper-Riverton WY</td>\n",
       "      <td>365</td>\n",
       "    </tr>\n",
       "    <tr>\n",
       "      <th>29</th>\n",
       "      <td>Cedar Rapids-Waterloo-Iowa City &amp; Dubuque IA</td>\n",
       "      <td>365</td>\n",
       "    </tr>\n",
       "    <tr>\n",
       "      <th>...</th>\n",
       "      <td>...</td>\n",
       "      <td>...</td>\n",
       "    </tr>\n",
       "    <tr>\n",
       "      <th>180</th>\n",
       "      <td>St. Joseph MO</td>\n",
       "      <td>365</td>\n",
       "    </tr>\n",
       "    <tr>\n",
       "      <th>181</th>\n",
       "      <td>St. Louis MO</td>\n",
       "      <td>365</td>\n",
       "    </tr>\n",
       "    <tr>\n",
       "      <th>182</th>\n",
       "      <td>Syracuse NY</td>\n",
       "      <td>365</td>\n",
       "    </tr>\n",
       "    <tr>\n",
       "      <th>183</th>\n",
       "      <td>Tallahassee FL-Thomasville GA</td>\n",
       "      <td>365</td>\n",
       "    </tr>\n",
       "    <tr>\n",
       "      <th>184</th>\n",
       "      <td>Tampa-St. Petersburg (Sarasota) FL</td>\n",
       "      <td>365</td>\n",
       "    </tr>\n",
       "    <tr>\n",
       "      <th>185</th>\n",
       "      <td>Terre Haute IN</td>\n",
       "      <td>365</td>\n",
       "    </tr>\n",
       "    <tr>\n",
       "      <th>186</th>\n",
       "      <td>Toledo OH</td>\n",
       "      <td>365</td>\n",
       "    </tr>\n",
       "    <tr>\n",
       "      <th>187</th>\n",
       "      <td>Topeka KS</td>\n",
       "      <td>365</td>\n",
       "    </tr>\n",
       "    <tr>\n",
       "      <th>188</th>\n",
       "      <td>Traverse City-Cadillac MI</td>\n",
       "      <td>365</td>\n",
       "    </tr>\n",
       "    <tr>\n",
       "      <th>189</th>\n",
       "      <td>Tri-Cities TN-VA</td>\n",
       "      <td>365</td>\n",
       "    </tr>\n",
       "    <tr>\n",
       "      <th>190</th>\n",
       "      <td>Tucson (Sierra Vista) AZ</td>\n",
       "      <td>365</td>\n",
       "    </tr>\n",
       "    <tr>\n",
       "      <th>191</th>\n",
       "      <td>Tulsa OK</td>\n",
       "      <td>365</td>\n",
       "    </tr>\n",
       "    <tr>\n",
       "      <th>192</th>\n",
       "      <td>Twin Falls ID</td>\n",
       "      <td>365</td>\n",
       "    </tr>\n",
       "    <tr>\n",
       "      <th>193</th>\n",
       "      <td>Tyler-Longview(Lufkin &amp; Nacogdoches) TX</td>\n",
       "      <td>365</td>\n",
       "    </tr>\n",
       "    <tr>\n",
       "      <th>194</th>\n",
       "      <td>Utica NY</td>\n",
       "      <td>365</td>\n",
       "    </tr>\n",
       "    <tr>\n",
       "      <th>195</th>\n",
       "      <td>Victoria TX</td>\n",
       "      <td>365</td>\n",
       "    </tr>\n",
       "    <tr>\n",
       "      <th>196</th>\n",
       "      <td>Waco-Temple-Bryan TX</td>\n",
       "      <td>365</td>\n",
       "    </tr>\n",
       "    <tr>\n",
       "      <th>197</th>\n",
       "      <td>Washington DC (Hagerstown MD)</td>\n",
       "      <td>365</td>\n",
       "    </tr>\n",
       "    <tr>\n",
       "      <th>198</th>\n",
       "      <td>Watertown NY</td>\n",
       "      <td>365</td>\n",
       "    </tr>\n",
       "    <tr>\n",
       "      <th>199</th>\n",
       "      <td>Wausau-Rhinelander WI</td>\n",
       "      <td>365</td>\n",
       "    </tr>\n",
       "    <tr>\n",
       "      <th>200</th>\n",
       "      <td>West Palm Beach-Ft. Pierce FL</td>\n",
       "      <td>365</td>\n",
       "    </tr>\n",
       "    <tr>\n",
       "      <th>201</th>\n",
       "      <td>Wheeling WV-Steubenville OH</td>\n",
       "      <td>365</td>\n",
       "    </tr>\n",
       "    <tr>\n",
       "      <th>202</th>\n",
       "      <td>Wichita Falls TX &amp; Lawton OK</td>\n",
       "      <td>365</td>\n",
       "    </tr>\n",
       "    <tr>\n",
       "      <th>203</th>\n",
       "      <td>Wichita-Hutchinson KS</td>\n",
       "      <td>365</td>\n",
       "    </tr>\n",
       "    <tr>\n",
       "      <th>204</th>\n",
       "      <td>Wilkes Barre-Scranton PA</td>\n",
       "      <td>365</td>\n",
       "    </tr>\n",
       "    <tr>\n",
       "      <th>205</th>\n",
       "      <td>Wilmington NC</td>\n",
       "      <td>365</td>\n",
       "    </tr>\n",
       "    <tr>\n",
       "      <th>206</th>\n",
       "      <td>Yakima-Pasco-Richland-Kennewick WA</td>\n",
       "      <td>365</td>\n",
       "    </tr>\n",
       "    <tr>\n",
       "      <th>207</th>\n",
       "      <td>Youngstown OH</td>\n",
       "      <td>365</td>\n",
       "    </tr>\n",
       "    <tr>\n",
       "      <th>208</th>\n",
       "      <td>Yuma AZ-El Centro CA</td>\n",
       "      <td>365</td>\n",
       "    </tr>\n",
       "    <tr>\n",
       "      <th>209</th>\n",
       "      <td>Zanesville OH</td>\n",
       "      <td>365</td>\n",
       "    </tr>\n",
       "  </tbody>\n",
       "</table>\n",
       "<p>210 rows × 2 columns</p>\n",
       "</div>"
      ],
      "text/plain": [
       "                                            metro  Count\n",
       "0                           Abilene-Sweetwater TX    365\n",
       "1                                       Albany GA    365\n",
       "2                      Albany-Schenectady-Troy NY    365\n",
       "3                         Albuquerque-Santa Fe NM    365\n",
       "4                                   Alexandria LA    365\n",
       "5                                       Alpena MI    365\n",
       "6                                     Amarillo TX    365\n",
       "7                                    Anchorage AK    365\n",
       "8                                      Atlanta GA    365\n",
       "9                                      Augusta GA    365\n",
       "10                                      Austin TX    365\n",
       "11                                 Bakersfield CA    365\n",
       "12                                   Baltimore MD    365\n",
       "13                                      Bangor ME    365\n",
       "14                                 Baton Rouge LA    365\n",
       "15                        Beaumont-Port Arthur TX    365\n",
       "16                                        Bend OR    365\n",
       "17                                   Billings, MT    365\n",
       "18                             Biloxi-Gulfport MS    365\n",
       "19                                  Binghamton NY    365\n",
       "20                   Birmingham (Ann and Tusc) AL    365\n",
       "21                  Bluefield-Beckley-Oak Hill WV    365\n",
       "22                                       Boise ID    365\n",
       "23                        Boston MA-Manchester NH    365\n",
       "24                               Bowling Green KY    365\n",
       "25                                     Buffalo NY    365\n",
       "26                   Burlington VT-Plattsburgh NY    365\n",
       "27                               Butte-Bozeman MT    365\n",
       "28                             Casper-Riverton WY    365\n",
       "29   Cedar Rapids-Waterloo-Iowa City & Dubuque IA    365\n",
       "..                                            ...    ...\n",
       "180                                 St. Joseph MO    365\n",
       "181                                  St. Louis MO    365\n",
       "182                                   Syracuse NY    365\n",
       "183                 Tallahassee FL-Thomasville GA    365\n",
       "184            Tampa-St. Petersburg (Sarasota) FL    365\n",
       "185                                Terre Haute IN    365\n",
       "186                                     Toledo OH    365\n",
       "187                                     Topeka KS    365\n",
       "188                     Traverse City-Cadillac MI    365\n",
       "189                              Tri-Cities TN-VA    365\n",
       "190                      Tucson (Sierra Vista) AZ    365\n",
       "191                                      Tulsa OK    365\n",
       "192                                 Twin Falls ID    365\n",
       "193       Tyler-Longview(Lufkin & Nacogdoches) TX    365\n",
       "194                                      Utica NY    365\n",
       "195                                   Victoria TX    365\n",
       "196                          Waco-Temple-Bryan TX    365\n",
       "197                 Washington DC (Hagerstown MD)    365\n",
       "198                                  Watertown NY    365\n",
       "199                         Wausau-Rhinelander WI    365\n",
       "200                 West Palm Beach-Ft. Pierce FL    365\n",
       "201                   Wheeling WV-Steubenville OH    365\n",
       "202                  Wichita Falls TX & Lawton OK    365\n",
       "203                         Wichita-Hutchinson KS    365\n",
       "204                      Wilkes Barre-Scranton PA    365\n",
       "205                                 Wilmington NC    365\n",
       "206            Yakima-Pasco-Richland-Kennewick WA    365\n",
       "207                                 Youngstown OH    365\n",
       "208                          Yuma AZ-El Centro CA    365\n",
       "209                                 Zanesville OH    365\n",
       "\n",
       "[210 rows x 2 columns]"
      ]
     },
     "execution_count": 26,
     "metadata": {},
     "output_type": "execute_result"
    }
   ],
   "source": [
    "pv_wx.groupby(['metro']).size().reset_index(name='Count')"
   ]
  },
  {
   "cell_type": "code",
   "execution_count": 27,
   "metadata": {},
   "outputs": [
    {
     "data": {
      "text/html": [
       "<div>\n",
       "<style scoped>\n",
       "    .dataframe tbody tr th:only-of-type {\n",
       "        vertical-align: middle;\n",
       "    }\n",
       "\n",
       "    .dataframe tbody tr th {\n",
       "        vertical-align: top;\n",
       "    }\n",
       "\n",
       "    .dataframe thead th {\n",
       "        text-align: right;\n",
       "    }\n",
       "</style>\n",
       "<table border=\"1\" class=\"dataframe\">\n",
       "  <thead>\n",
       "    <tr style=\"text-align: right;\">\n",
       "      <th></th>\n",
       "      <th>metro_label</th>\n",
       "      <th>Count</th>\n",
       "    </tr>\n",
       "  </thead>\n",
       "  <tbody>\n",
       "    <tr>\n",
       "      <th>0</th>\n",
       "      <td>0</td>\n",
       "      <td>365</td>\n",
       "    </tr>\n",
       "    <tr>\n",
       "      <th>1</th>\n",
       "      <td>1</td>\n",
       "      <td>365</td>\n",
       "    </tr>\n",
       "    <tr>\n",
       "      <th>2</th>\n",
       "      <td>2</td>\n",
       "      <td>365</td>\n",
       "    </tr>\n",
       "    <tr>\n",
       "      <th>3</th>\n",
       "      <td>3</td>\n",
       "      <td>365</td>\n",
       "    </tr>\n",
       "    <tr>\n",
       "      <th>4</th>\n",
       "      <td>4</td>\n",
       "      <td>365</td>\n",
       "    </tr>\n",
       "    <tr>\n",
       "      <th>5</th>\n",
       "      <td>5</td>\n",
       "      <td>365</td>\n",
       "    </tr>\n",
       "    <tr>\n",
       "      <th>6</th>\n",
       "      <td>6</td>\n",
       "      <td>365</td>\n",
       "    </tr>\n",
       "    <tr>\n",
       "      <th>7</th>\n",
       "      <td>7</td>\n",
       "      <td>365</td>\n",
       "    </tr>\n",
       "    <tr>\n",
       "      <th>8</th>\n",
       "      <td>8</td>\n",
       "      <td>365</td>\n",
       "    </tr>\n",
       "    <tr>\n",
       "      <th>9</th>\n",
       "      <td>9</td>\n",
       "      <td>365</td>\n",
       "    </tr>\n",
       "    <tr>\n",
       "      <th>10</th>\n",
       "      <td>10</td>\n",
       "      <td>365</td>\n",
       "    </tr>\n",
       "    <tr>\n",
       "      <th>11</th>\n",
       "      <td>11</td>\n",
       "      <td>365</td>\n",
       "    </tr>\n",
       "    <tr>\n",
       "      <th>12</th>\n",
       "      <td>12</td>\n",
       "      <td>365</td>\n",
       "    </tr>\n",
       "    <tr>\n",
       "      <th>13</th>\n",
       "      <td>13</td>\n",
       "      <td>365</td>\n",
       "    </tr>\n",
       "    <tr>\n",
       "      <th>14</th>\n",
       "      <td>14</td>\n",
       "      <td>365</td>\n",
       "    </tr>\n",
       "    <tr>\n",
       "      <th>15</th>\n",
       "      <td>15</td>\n",
       "      <td>365</td>\n",
       "    </tr>\n",
       "    <tr>\n",
       "      <th>16</th>\n",
       "      <td>16</td>\n",
       "      <td>365</td>\n",
       "    </tr>\n",
       "    <tr>\n",
       "      <th>17</th>\n",
       "      <td>17</td>\n",
       "      <td>365</td>\n",
       "    </tr>\n",
       "    <tr>\n",
       "      <th>18</th>\n",
       "      <td>18</td>\n",
       "      <td>365</td>\n",
       "    </tr>\n",
       "    <tr>\n",
       "      <th>19</th>\n",
       "      <td>19</td>\n",
       "      <td>365</td>\n",
       "    </tr>\n",
       "    <tr>\n",
       "      <th>20</th>\n",
       "      <td>20</td>\n",
       "      <td>365</td>\n",
       "    </tr>\n",
       "    <tr>\n",
       "      <th>21</th>\n",
       "      <td>21</td>\n",
       "      <td>365</td>\n",
       "    </tr>\n",
       "    <tr>\n",
       "      <th>22</th>\n",
       "      <td>22</td>\n",
       "      <td>365</td>\n",
       "    </tr>\n",
       "    <tr>\n",
       "      <th>23</th>\n",
       "      <td>23</td>\n",
       "      <td>365</td>\n",
       "    </tr>\n",
       "    <tr>\n",
       "      <th>24</th>\n",
       "      <td>24</td>\n",
       "      <td>365</td>\n",
       "    </tr>\n",
       "    <tr>\n",
       "      <th>25</th>\n",
       "      <td>25</td>\n",
       "      <td>365</td>\n",
       "    </tr>\n",
       "    <tr>\n",
       "      <th>26</th>\n",
       "      <td>26</td>\n",
       "      <td>365</td>\n",
       "    </tr>\n",
       "    <tr>\n",
       "      <th>27</th>\n",
       "      <td>27</td>\n",
       "      <td>365</td>\n",
       "    </tr>\n",
       "    <tr>\n",
       "      <th>28</th>\n",
       "      <td>28</td>\n",
       "      <td>365</td>\n",
       "    </tr>\n",
       "    <tr>\n",
       "      <th>29</th>\n",
       "      <td>29</td>\n",
       "      <td>365</td>\n",
       "    </tr>\n",
       "    <tr>\n",
       "      <th>...</th>\n",
       "      <td>...</td>\n",
       "      <td>...</td>\n",
       "    </tr>\n",
       "    <tr>\n",
       "      <th>180</th>\n",
       "      <td>180</td>\n",
       "      <td>365</td>\n",
       "    </tr>\n",
       "    <tr>\n",
       "      <th>181</th>\n",
       "      <td>181</td>\n",
       "      <td>365</td>\n",
       "    </tr>\n",
       "    <tr>\n",
       "      <th>182</th>\n",
       "      <td>182</td>\n",
       "      <td>365</td>\n",
       "    </tr>\n",
       "    <tr>\n",
       "      <th>183</th>\n",
       "      <td>183</td>\n",
       "      <td>365</td>\n",
       "    </tr>\n",
       "    <tr>\n",
       "      <th>184</th>\n",
       "      <td>184</td>\n",
       "      <td>365</td>\n",
       "    </tr>\n",
       "    <tr>\n",
       "      <th>185</th>\n",
       "      <td>185</td>\n",
       "      <td>365</td>\n",
       "    </tr>\n",
       "    <tr>\n",
       "      <th>186</th>\n",
       "      <td>186</td>\n",
       "      <td>365</td>\n",
       "    </tr>\n",
       "    <tr>\n",
       "      <th>187</th>\n",
       "      <td>187</td>\n",
       "      <td>365</td>\n",
       "    </tr>\n",
       "    <tr>\n",
       "      <th>188</th>\n",
       "      <td>188</td>\n",
       "      <td>365</td>\n",
       "    </tr>\n",
       "    <tr>\n",
       "      <th>189</th>\n",
       "      <td>189</td>\n",
       "      <td>365</td>\n",
       "    </tr>\n",
       "    <tr>\n",
       "      <th>190</th>\n",
       "      <td>190</td>\n",
       "      <td>365</td>\n",
       "    </tr>\n",
       "    <tr>\n",
       "      <th>191</th>\n",
       "      <td>191</td>\n",
       "      <td>365</td>\n",
       "    </tr>\n",
       "    <tr>\n",
       "      <th>192</th>\n",
       "      <td>192</td>\n",
       "      <td>365</td>\n",
       "    </tr>\n",
       "    <tr>\n",
       "      <th>193</th>\n",
       "      <td>193</td>\n",
       "      <td>365</td>\n",
       "    </tr>\n",
       "    <tr>\n",
       "      <th>194</th>\n",
       "      <td>194</td>\n",
       "      <td>365</td>\n",
       "    </tr>\n",
       "    <tr>\n",
       "      <th>195</th>\n",
       "      <td>195</td>\n",
       "      <td>365</td>\n",
       "    </tr>\n",
       "    <tr>\n",
       "      <th>196</th>\n",
       "      <td>196</td>\n",
       "      <td>365</td>\n",
       "    </tr>\n",
       "    <tr>\n",
       "      <th>197</th>\n",
       "      <td>197</td>\n",
       "      <td>365</td>\n",
       "    </tr>\n",
       "    <tr>\n",
       "      <th>198</th>\n",
       "      <td>198</td>\n",
       "      <td>365</td>\n",
       "    </tr>\n",
       "    <tr>\n",
       "      <th>199</th>\n",
       "      <td>199</td>\n",
       "      <td>365</td>\n",
       "    </tr>\n",
       "    <tr>\n",
       "      <th>200</th>\n",
       "      <td>200</td>\n",
       "      <td>365</td>\n",
       "    </tr>\n",
       "    <tr>\n",
       "      <th>201</th>\n",
       "      <td>201</td>\n",
       "      <td>365</td>\n",
       "    </tr>\n",
       "    <tr>\n",
       "      <th>202</th>\n",
       "      <td>202</td>\n",
       "      <td>365</td>\n",
       "    </tr>\n",
       "    <tr>\n",
       "      <th>203</th>\n",
       "      <td>203</td>\n",
       "      <td>365</td>\n",
       "    </tr>\n",
       "    <tr>\n",
       "      <th>204</th>\n",
       "      <td>204</td>\n",
       "      <td>365</td>\n",
       "    </tr>\n",
       "    <tr>\n",
       "      <th>205</th>\n",
       "      <td>205</td>\n",
       "      <td>365</td>\n",
       "    </tr>\n",
       "    <tr>\n",
       "      <th>206</th>\n",
       "      <td>206</td>\n",
       "      <td>365</td>\n",
       "    </tr>\n",
       "    <tr>\n",
       "      <th>207</th>\n",
       "      <td>207</td>\n",
       "      <td>365</td>\n",
       "    </tr>\n",
       "    <tr>\n",
       "      <th>208</th>\n",
       "      <td>208</td>\n",
       "      <td>365</td>\n",
       "    </tr>\n",
       "    <tr>\n",
       "      <th>209</th>\n",
       "      <td>209</td>\n",
       "      <td>365</td>\n",
       "    </tr>\n",
       "  </tbody>\n",
       "</table>\n",
       "<p>210 rows × 2 columns</p>\n",
       "</div>"
      ],
      "text/plain": [
       "     metro_label  Count\n",
       "0              0    365\n",
       "1              1    365\n",
       "2              2    365\n",
       "3              3    365\n",
       "4              4    365\n",
       "5              5    365\n",
       "6              6    365\n",
       "7              7    365\n",
       "8              8    365\n",
       "9              9    365\n",
       "10            10    365\n",
       "11            11    365\n",
       "12            12    365\n",
       "13            13    365\n",
       "14            14    365\n",
       "15            15    365\n",
       "16            16    365\n",
       "17            17    365\n",
       "18            18    365\n",
       "19            19    365\n",
       "20            20    365\n",
       "21            21    365\n",
       "22            22    365\n",
       "23            23    365\n",
       "24            24    365\n",
       "25            25    365\n",
       "26            26    365\n",
       "27            27    365\n",
       "28            28    365\n",
       "29            29    365\n",
       "..           ...    ...\n",
       "180          180    365\n",
       "181          181    365\n",
       "182          182    365\n",
       "183          183    365\n",
       "184          184    365\n",
       "185          185    365\n",
       "186          186    365\n",
       "187          187    365\n",
       "188          188    365\n",
       "189          189    365\n",
       "190          190    365\n",
       "191          191    365\n",
       "192          192    365\n",
       "193          193    365\n",
       "194          194    365\n",
       "195          195    365\n",
       "196          196    365\n",
       "197          197    365\n",
       "198          198    365\n",
       "199          199    365\n",
       "200          200    365\n",
       "201          201    365\n",
       "202          202    365\n",
       "203          203    365\n",
       "204          204    365\n",
       "205          205    365\n",
       "206          206    365\n",
       "207          207    365\n",
       "208          208    365\n",
       "209          209    365\n",
       "\n",
       "[210 rows x 2 columns]"
      ]
     },
     "execution_count": 27,
     "metadata": {},
     "output_type": "execute_result"
    }
   ],
   "source": [
    "pv_wx.groupby(['metro_label']).size().reset_index(name='Count')"
   ]
  },
  {
   "cell_type": "markdown",
   "metadata": {},
   "source": [
    "# Heat Map signifies correlation among variables"
   ]
  },
  {
   "cell_type": "code",
   "execution_count": 28,
   "metadata": {},
   "outputs": [
    {
     "data": {
      "text/html": [
       "<div>\n",
       "<style scoped>\n",
       "    .dataframe tbody tr th:only-of-type {\n",
       "        vertical-align: middle;\n",
       "    }\n",
       "\n",
       "    .dataframe tbody tr th {\n",
       "        vertical-align: top;\n",
       "    }\n",
       "\n",
       "    .dataframe thead th {\n",
       "        text-align: right;\n",
       "    }\n",
       "</style>\n",
       "<table border=\"1\" class=\"dataframe\">\n",
       "  <thead>\n",
       "    <tr style=\"text-align: right;\">\n",
       "      <th></th>\n",
       "      <th>pageviews</th>\n",
       "      <th>cur_temp_avg</th>\n",
       "      <th>cur_humidity_avg</th>\n",
       "      <th>cur_wind_avg</th>\n",
       "      <th>month</th>\n",
       "      <th>year</th>\n",
       "      <th>holiday_flag_label</th>\n",
       "      <th>metro_label</th>\n",
       "    </tr>\n",
       "  </thead>\n",
       "  <tbody>\n",
       "    <tr>\n",
       "      <th>pageviews</th>\n",
       "      <td>1.000000</td>\n",
       "      <td>0.011606</td>\n",
       "      <td>0.049950</td>\n",
       "      <td>0.050649</td>\n",
       "      <td>-0.070342</td>\n",
       "      <td>NaN</td>\n",
       "      <td>0.006290</td>\n",
       "      <td>-0.021501</td>\n",
       "    </tr>\n",
       "    <tr>\n",
       "      <th>cur_temp_avg</th>\n",
       "      <td>0.011606</td>\n",
       "      <td>1.000000</td>\n",
       "      <td>-0.117649</td>\n",
       "      <td>-0.188118</td>\n",
       "      <td>0.191321</td>\n",
       "      <td>NaN</td>\n",
       "      <td>-0.059819</td>\n",
       "      <td>0.014442</td>\n",
       "    </tr>\n",
       "    <tr>\n",
       "      <th>cur_humidity_avg</th>\n",
       "      <td>0.049950</td>\n",
       "      <td>-0.117649</td>\n",
       "      <td>1.000000</td>\n",
       "      <td>-0.146660</td>\n",
       "      <td>0.205298</td>\n",
       "      <td>NaN</td>\n",
       "      <td>0.023048</td>\n",
       "      <td>-0.000761</td>\n",
       "    </tr>\n",
       "    <tr>\n",
       "      <th>cur_wind_avg</th>\n",
       "      <td>0.050649</td>\n",
       "      <td>-0.188118</td>\n",
       "      <td>-0.146660</td>\n",
       "      <td>1.000000</td>\n",
       "      <td>-0.222680</td>\n",
       "      <td>NaN</td>\n",
       "      <td>-0.011503</td>\n",
       "      <td>0.024950</td>\n",
       "    </tr>\n",
       "    <tr>\n",
       "      <th>month</th>\n",
       "      <td>-0.070342</td>\n",
       "      <td>0.191321</td>\n",
       "      <td>0.205298</td>\n",
       "      <td>-0.222680</td>\n",
       "      <td>1.000000</td>\n",
       "      <td>NaN</td>\n",
       "      <td>0.038413</td>\n",
       "      <td>0.000556</td>\n",
       "    </tr>\n",
       "    <tr>\n",
       "      <th>year</th>\n",
       "      <td>NaN</td>\n",
       "      <td>NaN</td>\n",
       "      <td>NaN</td>\n",
       "      <td>NaN</td>\n",
       "      <td>NaN</td>\n",
       "      <td>NaN</td>\n",
       "      <td>NaN</td>\n",
       "      <td>NaN</td>\n",
       "    </tr>\n",
       "    <tr>\n",
       "      <th>holiday_flag_label</th>\n",
       "      <td>0.006290</td>\n",
       "      <td>-0.059819</td>\n",
       "      <td>0.023048</td>\n",
       "      <td>-0.011503</td>\n",
       "      <td>0.038413</td>\n",
       "      <td>NaN</td>\n",
       "      <td>1.000000</td>\n",
       "      <td>-0.000076</td>\n",
       "    </tr>\n",
       "    <tr>\n",
       "      <th>metro_label</th>\n",
       "      <td>-0.021501</td>\n",
       "      <td>0.014442</td>\n",
       "      <td>-0.000761</td>\n",
       "      <td>0.024950</td>\n",
       "      <td>0.000556</td>\n",
       "      <td>NaN</td>\n",
       "      <td>-0.000076</td>\n",
       "      <td>1.000000</td>\n",
       "    </tr>\n",
       "  </tbody>\n",
       "</table>\n",
       "</div>"
      ],
      "text/plain": [
       "                    pageviews  cur_temp_avg  cur_humidity_avg  cur_wind_avg  \\\n",
       "pageviews            1.000000      0.011606          0.049950      0.050649   \n",
       "cur_temp_avg         0.011606      1.000000         -0.117649     -0.188118   \n",
       "cur_humidity_avg     0.049950     -0.117649          1.000000     -0.146660   \n",
       "cur_wind_avg         0.050649     -0.188118         -0.146660      1.000000   \n",
       "month               -0.070342      0.191321          0.205298     -0.222680   \n",
       "year                      NaN           NaN               NaN           NaN   \n",
       "holiday_flag_label   0.006290     -0.059819          0.023048     -0.011503   \n",
       "metro_label         -0.021501      0.014442         -0.000761      0.024950   \n",
       "\n",
       "                       month  year  holiday_flag_label  metro_label  \n",
       "pageviews          -0.070342   NaN            0.006290    -0.021501  \n",
       "cur_temp_avg        0.191321   NaN           -0.059819     0.014442  \n",
       "cur_humidity_avg    0.205298   NaN            0.023048    -0.000761  \n",
       "cur_wind_avg       -0.222680   NaN           -0.011503     0.024950  \n",
       "month               1.000000   NaN            0.038413     0.000556  \n",
       "year                     NaN   NaN                 NaN          NaN  \n",
       "holiday_flag_label  0.038413   NaN            1.000000    -0.000076  \n",
       "metro_label         0.000556   NaN           -0.000076     1.000000  "
      ]
     },
     "execution_count": 28,
     "metadata": {},
     "output_type": "execute_result"
    },
    {
     "data": {
      "image/png": "[encoded data removed]",
      "text/plain": [
       "<Figure size 2160x1080 with 2 Axes>"
      ]
     },
     "metadata": {
      "needs_background": "light"
     },
     "output_type": "display_data"
    }
   ],
   "source": [
    "corr = pv_wx.corr()\n",
    "fig, ax = plt.subplots(figsize=(30,15))    \n",
    "sns.heatmap(corr, \n",
    "            xticklabels=corr.columns.values,\n",
    "            yticklabels=corr.columns.values,\n",
    "            linewidths=12, \n",
    "            ax=ax,\n",
    "            annot=True, \n",
    "            annot_kws={\"size\": 27})\n",
    "plt.title('Heatmap of Correlation Matrix')\n",
    "corr"
   ]
  },
  {
   "cell_type": "raw",
   "metadata": {},
   "source": [
    "Some Statistics:\n",
    "\n",
    "    We see correlartions among weather variables like wind and humidity is somewhat effective on pageviews"
   ]
  },
  {
   "cell_type": "code",
   "execution_count": 29,
   "metadata": {},
   "outputs": [
    {
     "name": "stdout",
     "output_type": "stream",
     "text": [
      "unique values of holiday flags is ['True' 'False']\n",
      "unique values of metro  210\n",
      "<class 'pandas.core.frame.DataFrame'>\n",
      "Int64Index: 76604 entries, 0 to 76603\n",
      "Data columns (total 12 columns):\n",
      "date                  76604 non-null datetime64[ns]\n",
      "metro                 76604 non-null object\n",
      "pageviews             76604 non-null int64\n",
      "cur_temp_avg          76604 non-null float64\n",
      "cur_humidity_avg      76604 non-null float64\n",
      "cur_wind_avg          76604 non-null float64\n",
      "holiday_flag          76604 non-null object\n",
      "month                 76604 non-null int64\n",
      "month_year            76604 non-null object\n",
      "year                  76604 non-null int64\n",
      "holiday_flag_label    76604 non-null int32\n",
      "metro_label           76604 non-null int32\n",
      "dtypes: datetime64[ns](1), float64(3), int32(2), int64(3), object(3)\n",
      "memory usage: 7.0+ MB\n",
      "None\n"
     ]
    }
   ],
   "source": [
    "print('unique values of holiday flags is',pv_wx['holiday_flag'].unique())\n",
    "print('unique values of metro ',pv_wx['metro'].nunique())\n",
    "print(pv_wx.info())"
   ]
  },
  {
   "cell_type": "markdown",
   "metadata": {},
   "source": [
    "# Logistic Regression (Basic)"
   ]
  },
  {
   "cell_type": "code",
   "execution_count": 30,
   "metadata": {},
   "outputs": [
    {
     "name": "stdout",
     "output_type": "stream",
     "text": [
      "training shape (61283, 3)\n"
     ]
    },
    {
     "data": {
      "image/png": "[encoded data removed]",
      "text/plain": [
       "<Figure size 432x288 with 1 Axes>"
      ]
     },
     "metadata": {
      "needs_background": "light"
     },
     "output_type": "display_data"
    },
    {
     "name": "stdout",
     "output_type": "stream",
     "text": [
      "r2 score is 0.006929152957859563\n",
      "cofficients are [[ 277.36986188  825.19336634 3964.2016919 ]]\n",
      "mean squared error is 29848311292.769756\n",
      "Training data accuracy using 5-Fold Cross Validation is : 0.006771653466365546\n"
     ]
    },
    {
     "name": "stderr",
     "output_type": "stream",
     "text": [
      "C:\\Users\\pavani.nrusimhdevara\\AppData\\Local\\Continuum\\anaconda3\\lib\\site-packages\\scipy\\stats\\stats.py:1713: FutureWarning: Using a non-tuple sequence for multidimensional indexing is deprecated; use `arr[tuple(seq)]` instead of `arr[seq]`. In the future this will be interpreted as an array index, `arr[np.array(seq)]`, which will result either in an error or a different result.\n",
      "  return np.add.reduce(sorted[indexer] * weights, axis=axis) / sumval\n"
     ]
    },
    {
     "data": {
      "image/png": "[encoded data removed]",
      "text/plain": [
       "<Figure size 432x288 with 1 Axes>"
      ]
     },
     "metadata": {
      "needs_background": "light"
     },
     "output_type": "display_data"
    }
   ],
   "source": [
    "X = pv_wx[['cur_temp_avg','cur_humidity_avg','cur_wind_avg']]\n",
    "y = pv_wx[['pageviews']]\n",
    "X_train, X_test, y_train, y_test = train_test_split( X, y, test_size=0.20,random_state=42)\n",
    "\n",
    "from sklearn.linear_model import LinearRegression\n",
    "reg = LinearRegression()\n",
    "reg.fit(X_train,y_train)\n",
    "\n",
    "print('training shape',X_train.shape)\n",
    "y_hat = reg.predict(X_train)\n",
    "\n",
    "plt.scatter(y_train,y_hat)\n",
    "plt.xlabel('Actual Value')\n",
    "plt.ylabel('Predicted Value')\n",
    "plt.show()\n",
    "\n",
    "print('r2 score is',reg.score(X_train,y_train))\n",
    "\n",
    "print('cofficients are',reg.coef_)\n",
    "  \n",
    "from sklearn.metrics import mean_squared_error\n",
    "print('mean squared error is',mean_squared_error(y_train, y_hat))\n",
    "\n",
    "from sklearn.model_selection import cross_val_score\n",
    "from sklearn.model_selection import cross_val_predict\n",
    "cv_score = cross_val_score(reg, X_train, y_train, cv=5)\n",
    "print(\"Training data accuracy using 5-Fold Cross Validation is :\", (np.mean(cv_score)))\n",
    "\n",
    "sns.distplot(y_train - y_hat)\n",
    "plt.title(\"Residuals Plot\")\n",
    "plt.show()"
   ]
  },
  {
   "cell_type": "markdown",
   "metadata": {},
   "source": [
    "# Logistic (added more varaibles)"
   ]
  },
  {
   "cell_type": "code",
   "execution_count": 31,
   "metadata": {},
   "outputs": [
    {
     "name": "stdout",
     "output_type": "stream",
     "text": [
      "training shape (61283, 5)\n"
     ]
    },
    {
     "data": {
      "image/png": "[encoded data removed]",
      "text/plain": [
       "<Figure size 432x288 with 1 Axes>"
      ]
     },
     "metadata": {
      "needs_background": "light"
     },
     "output_type": "display_data"
    },
    {
     "name": "stdout",
     "output_type": "stream",
     "text": [
      "r2 score is 0.007568222841994432\n",
      "cofficients are [[ 286.44096227  825.90903497 4016.63772264  -68.4577566  8198.28661167]]\n",
      "mean squared error is 29829103039.001854\n",
      "Training data accuracy using 5-Fold Cross Validation is : 0.007338633977906128\n"
     ]
    },
    {
     "name": "stderr",
     "output_type": "stream",
     "text": [
      "C:\\Users\\pavani.nrusimhdevara\\AppData\\Local\\Continuum\\anaconda3\\lib\\site-packages\\scipy\\stats\\stats.py:1713: FutureWarning: Using a non-tuple sequence for multidimensional indexing is deprecated; use `arr[tuple(seq)]` instead of `arr[seq]`. In the future this will be interpreted as an array index, `arr[np.array(seq)]`, which will result either in an error or a different result.\n",
      "  return np.add.reduce(sorted[indexer] * weights, axis=axis) / sumval\n"
     ]
    },
    {
     "data": {
      "image/png": "[encoded data removed]",
      "text/plain": [
       "<Figure size 432x288 with 1 Axes>"
      ]
     },
     "metadata": {
      "needs_background": "light"
     },
     "output_type": "display_data"
    }
   ],
   "source": [
    "X = pv_wx[['cur_temp_avg','cur_humidity_avg','cur_wind_avg','metro_label','holiday_flag_label']]\n",
    "y = pv_wx[['pageviews']]\n",
    "X_train, X_test, y_train, y_test = train_test_split( X, y, test_size=0.20,random_state=42)\n",
    "\n",
    "from sklearn.linear_model import LinearRegression\n",
    "reg = LinearRegression()\n",
    "reg.fit(X_train,y_train)\n",
    "\n",
    "print('training shape',X_train.shape)\n",
    "y_hat = reg.predict(X_train)\n",
    "\n",
    "plt.scatter(y_train,y_hat)\n",
    "plt.xlabel('Actual Value')\n",
    "plt.ylabel('Predicted Value')\n",
    "plt.show()\n",
    "\n",
    "print('r2 score is',reg.score(X_train,y_train))\n",
    "\n",
    "print('cofficients are',reg.coef_)\n",
    "  \n",
    "from sklearn.metrics import mean_squared_error\n",
    "print('mean squared error is',mean_squared_error(y_train, y_hat))\n",
    "\n",
    "from sklearn.model_selection import cross_val_score\n",
    "from sklearn.model_selection import cross_val_predict\n",
    "cv_score = cross_val_score(reg, X_train, y_train, cv=5)\n",
    "print(\"Training data accuracy using 5-Fold Cross Validation is :\", (np.mean(cv_score)))\n",
    "\n",
    "sns.distplot(y_train - y_hat)\n",
    "plt.title(\"Residuals Plot\")\n",
    "plt.show()"
   ]
  },
  {
   "cell_type": "code",
   "execution_count": 32,
   "metadata": {},
   "outputs": [
    {
     "name": "stdout",
     "output_type": "stream",
     "text": [
      "<class 'pandas.core.frame.DataFrame'>\n",
      "Int64Index: 76604 entries, 0 to 76603\n",
      "Data columns (total 12 columns):\n",
      "date                  76604 non-null datetime64[ns]\n",
      "metro                 76604 non-null object\n",
      "pageviews             76604 non-null int64\n",
      "cur_temp_avg          76604 non-null float64\n",
      "cur_humidity_avg      76604 non-null float64\n",
      "cur_wind_avg          76604 non-null float64\n",
      "holiday_flag          76604 non-null object\n",
      "month                 76604 non-null int64\n",
      "month_year            76604 non-null object\n",
      "year                  76604 non-null int64\n",
      "holiday_flag_label    76604 non-null int32\n",
      "metro_label           76604 non-null int32\n",
      "dtypes: datetime64[ns](1), float64(3), int32(2), int64(3), object(3)\n",
      "memory usage: 7.0+ MB\n"
     ]
    }
   ],
   "source": [
    "pv_wx.info()"
   ]
  },
  {
   "cell_type": "markdown",
   "metadata": {},
   "source": [
    "# Descision Tree Forests (MULTIPLE VARIABLES ADDED)"
   ]
  },
  {
   "cell_type": "code",
   "execution_count": 33,
   "metadata": {},
   "outputs": [],
   "source": [
    "X = pv_wx[['cur_temp_avg','cur_humidity_avg','cur_wind_avg','metro_label','holiday_flag_label','month','year']]\n",
    "y = pv_wx[['pageviews']]\n",
    "X_train, X_test, y_train, y_test = train_test_split( X, y, test_size=0.20,random_state=42)\n"
   ]
  },
  {
   "cell_type": "code",
   "execution_count": 34,
   "metadata": {},
   "outputs": [
    {
     "name": "stdout",
     "output_type": "stream",
     "text": [
      "Training data accuracy using 5-Fold Cross Validation is : 0.41869936760021476\n",
      "model score 0.4292874297690754\n",
      "r2score 0.4292874297690754\n",
      "MSE test  15984979417.518616\n",
      "RMSE test  126431.71839976951\n",
      "r2 test score 0.36700161059762315\n"
     ]
    }
   ],
   "source": [
    "from sklearn.tree import DecisionTreeRegressor\n",
    "from sklearn.metrics import mean_squared_error\n",
    "from sklearn.metrics import r2_score\n",
    "\n",
    "# Fit regression model\n",
    "regr_2 = DecisionTreeRegressor(max_depth=5)\n",
    "regr_2.fit(X_train, y_train)\n",
    "y_1 = regr_2.predict(X_train)\n",
    "# sns.distplot((y_train['pageviews'] - y_1)\n",
    "# plt.title(\"Residuals Plot\")\n",
    "# plt.show()\n",
    "mean_squared_error(y_train, y_1)\n",
    "cv_score = cross_val_score(regr_2, X_train, y_train, cv=5)\n",
    "print(\"Training data accuracy using 5-Fold Cross Validation is :\", (np.mean(cv_score)))\n",
    "print('model score',regr_2.score(X_train,y_train))\n",
    "print('r2score',r2_score(y_train, y_1))\n",
    "\n",
    "# test data scores\n",
    "regr_test = DecisionTreeRegressor(max_depth=5)\n",
    "regr_test.fit(X_train, y_train)\n",
    "y_test_pred = regr_test.predict(X_test)\n",
    "# sns.distplot(y_test['pageviews'] - y_test_pred)\n",
    "# plt.title(\"Residuals Plot\")\n",
    "# plt.show()\n",
    "print('MSE test ',mean_squared_error(y_test, y_test_pred))\n",
    "print('RMSE test ',np.sqrt(mean_squared_error(y_test, y_test_pred)))\n",
    "print('r2 test score',r2_score(y_test, y_test_pred))"
   ]
  },
  {
   "cell_type": "markdown",
   "metadata": {},
   "source": [
    "# Random Forest Regression (Feature Importance)"
   ]
  },
  {
   "cell_type": "code",
   "execution_count": 35,
   "metadata": {},
   "outputs": [],
   "source": [
    "from sklearn.ensemble import RandomForestRegressor\n",
    "from sklearn.datasets import make_regression"
   ]
  },
  {
   "cell_type": "code",
   "execution_count": 36,
   "metadata": {},
   "outputs": [
    {
     "name": "stderr",
     "output_type": "stream",
     "text": [
      "C:\\Users\\pavani.nrusimhdevara\\AppData\\Local\\Continuum\\anaconda3\\lib\\site-packages\\ipykernel_launcher.py:2: DataConversionWarning: A column-vector y was passed when a 1d array was expected. Please change the shape of y to (n_samples,), for example using ravel().\n",
      "  \n"
     ]
    },
    {
     "name": "stdout",
     "output_type": "stream",
     "text": [
      "[0.00434651 0.0032774  0.02523008 0.94925676 0.         0.01788925\n",
      " 0.        ]\n"
     ]
    }
   ],
   "source": [
    "regr = RandomForestRegressor(max_depth=5, random_state=0,n_estimators=1000)\n",
    "regr.fit(X,y)\n",
    "print(regr.feature_importances_)"
   ]
  },
  {
   "cell_type": "markdown",
   "metadata": {},
   "source": [
    "1. Include Day of Week and Day of Month \n",
    "2. Include Season\n",
    "3. Try XGBoost (for Strong and Weak Learners)"
   ]
  },
  {
   "cell_type": "markdown",
   "metadata": {},
   "source": [
    "# Season"
   ]
  },
  {
   "cell_type": "code",
   "execution_count": 37,
   "metadata": {},
   "outputs": [],
   "source": [
    "conditions =[\n",
    "    (pv_wx['month']==1 )| (pv_wx['month']==12)| (pv_wx['month']==2),\n",
    "    (pv_wx['month']==3) | (pv_wx['month']==4) | ( pv_wx['month']==5),\n",
    "    (pv_wx['month']==6) | (pv_wx['month']==7) | (pv_wx['month']==8),\n",
    "    (pv_wx['month']==9)|(pv_wx['month']==10)| (pv_wx['month']==11),\n",
    "   ]\n",
    "choices = ['Winter', 'Spring', 'Summer','Fall']\n",
    "pv_wx['Season']= np.select(conditions, choices, default=\"black\")\n",
    "\n"
   ]
  },
  {
   "cell_type": "code",
   "execution_count": 38,
   "metadata": {},
   "outputs": [],
   "source": [
    "pv_wx['Season_label'] = label_encoder.fit_transform(pv_wx['Season'])"
   ]
  },
  {
   "cell_type": "markdown",
   "metadata": {},
   "source": [
    "# Day of Week and Month"
   ]
  },
  {
   "cell_type": "code",
   "execution_count": 39,
   "metadata": {},
   "outputs": [],
   "source": [
    "pv_wx['day_of_week'] = pv_wx['date'].dt.weekday\n",
    "pv_wx['day_of_month'] = pv_wx['date'].dt.day"
   ]
  },
  {
   "cell_type": "markdown",
   "metadata": {},
   "source": [
    "# XG Boost(New Varibles Added)"
   ]
  },
  {
   "cell_type": "code",
   "execution_count": 40,
   "metadata": {},
   "outputs": [],
   "source": [
    "X = pv_wx[['cur_temp_avg','cur_humidity_avg','cur_wind_avg','metro_label','holiday_flag_label','Season_label','month','year','day_of_week','day_of_month']]\n",
    "y = pv_wx[['pageviews']]\n",
    "X_train, X_test, y_train, y_test = train_test_split( X, y, test_size=0.20,random_state=42)"
   ]
  },
  {
   "cell_type": "code",
   "execution_count": 41,
   "metadata": {
    "scrolled": true
   },
   "outputs": [
    {
     "name": "stdout",
     "output_type": "stream",
     "text": [
      "[22:23:12] WARNING: C:/Jenkins/workspace/xgboost-win64_release_0.90/src/objective/regression_obj.cu:152: reg:linear is now deprecated in favor of reg:squarederror.\n",
      "train data RMSE: 180155.152952\n",
      "r2 score for train data -0.07982616062298686\n"
     ]
    },
    {
     "name": "stderr",
     "output_type": "stream",
     "text": [
      "C:\\Users\\pavani.nrusimhdevara\\AppData\\Local\\Continuum\\anaconda3\\lib\\site-packages\\scipy\\stats\\stats.py:1713: FutureWarning: Using a non-tuple sequence for multidimensional indexing is deprecated; use `arr[tuple(seq)]` instead of `arr[seq]`. In the future this will be interpreted as an array index, `arr[np.array(seq)]`, which will result either in an error or a different result.\n",
      "  return np.add.reduce(sorted[indexer] * weights, axis=axis) / sumval\n"
     ]
    },
    {
     "data": {
      "image/png": "[encoded data removed]",
      "text/plain": [
       "<Figure size 432x288 with 1 Axes>"
      ]
     },
     "metadata": {
      "needs_background": "light"
     },
     "output_type": "display_data"
    },
    {
     "name": "stdout",
     "output_type": "stream",
     "text": [
      "test data RMSE: 165845.922989\n",
      "r2 score for test data -0.0891811659515016\n"
     ]
    },
    {
     "data": {
      "image/png": "[encoded data removed]",
      "text/plain": [
       "<Figure size 432x288 with 1 Axes>"
      ]
     },
     "metadata": {
      "needs_background": "light"
     },
     "output_type": "display_data"
    }
   ],
   "source": [
    "import xgboost as xgb\n",
    "xg_reg = xgb.XGBRegressor(objective ='reg:linear', colsample_bytree = 0.8, learning_rate = 0.001,\n",
    "                max_depth = 5, alpha = 5 , n_estimators = 100)\n",
    "\n",
    "## reg:linear is for regression problems\n",
    "\n",
    "xg_reg.fit(X_train,y_train)\n",
    "\n",
    "y_train_pred = xg_reg.predict(X_train)\n",
    "rmse_train = np.sqrt(mean_squared_error(y_train,y_train_pred))\n",
    "print(\"train data RMSE: %f\" % (rmse_train))\n",
    "print(\"r2 score for train data\",r2_score(y_train,y_train_pred))\n",
    "\n",
    "y_test_pred = xg_reg.predict(X_test)\n",
    "sns.distplot(y_test['pageviews'] - y_test_pred)\n",
    "plt.title(\"Residuals Plot\")\n",
    "plt.show()\n",
    "rmse = np.sqrt(mean_squared_error(y_test,y_test_pred))\n",
    "print(\"test data RMSE: %f\" % (rmse))\n",
    "print(\"r2 score for test data\",r2_score(y_test,y_test_pred))\n",
    "\n",
    "xgb.plot_importance(xg_reg)\n",
    "plt.rcParams['figure.figsize'] = [5, 5]\n",
    "plt.show()"
   ]
  },
  {
   "cell_type": "markdown",
   "metadata": {},
   "source": [
    "# Random Forests Regressor"
   ]
  },
  {
   "cell_type": "code",
   "execution_count": 42,
   "metadata": {},
   "outputs": [],
   "source": [
    "X = pv_wx[['cur_temp_avg','cur_humidity_avg','cur_wind_avg','metro_label','holiday_flag_label','Season_label','month','year','day_of_week','day_of_month']]\n",
    "y = pv_wx[['pageviews']]\n",
    "X_train, X_test, y_train, y_test = train_test_split( X, y, test_size=0.30,random_state=42)"
   ]
  },
  {
   "cell_type": "code",
   "execution_count": 43,
   "metadata": {},
   "outputs": [
    {
     "name": "stderr",
     "output_type": "stream",
     "text": [
      "C:\\Users\\pavani.nrusimhdevara\\AppData\\Local\\Continuum\\anaconda3\\lib\\site-packages\\ipykernel_launcher.py:2: DataConversionWarning: A column-vector y was passed when a 1d array was expected. Please change the shape of y to (n_samples,), for example using ravel().\n",
      "  \n"
     ]
    }
   ],
   "source": [
    "regressor = RandomForestRegressor(n_estimators=20, random_state=0)\n",
    "regressor.fit(X_train, y_train)\n",
    "y_pred = regressor.predict(X_test)"
   ]
  },
  {
   "cell_type": "code",
   "execution_count": 44,
   "metadata": {},
   "outputs": [
    {
     "name": "stdout",
     "output_type": "stream",
     "text": [
      "Mean Absolute Error: 17450.096031676963\n",
      "Mean Squared Error: 3810416976.730439\n",
      "Root Mean Squared Error: 61728.57504211837\n"
     ]
    }
   ],
   "source": [
    "from sklearn import metrics\n",
    "\n",
    "print('Mean Absolute Error:', metrics.mean_absolute_error(y_test, y_pred))\n",
    "print('Mean Squared Error:', metrics.mean_squared_error(y_test, y_pred))\n",
    "print('Root Mean Squared Error:', np.sqrt(metrics.mean_squared_error(y_test, y_pred)))"
   ]
  },
  {
   "cell_type": "markdown",
   "metadata": {},
   "source": [
    "RMSE is relatively lesser compared to other model's RMSEs"
   ]
  },
  {
   "cell_type": "code",
   "execution_count": 45,
   "metadata": {
    "scrolled": true
   },
   "outputs": [
    {
     "name": "stderr",
     "output_type": "stream",
     "text": [
      "C:\\Users\\pavani.nrusimhdevara\\AppData\\Local\\Continuum\\anaconda3\\lib\\site-packages\\ipykernel_launcher.py:2: DataConversionWarning: A column-vector y was passed when a 1d array was expected. Please change the shape of y to (n_samples,), for example using ravel().\n",
      "  \n"
     ]
    },
    {
     "name": "stdout",
     "output_type": "stream",
     "text": [
      "train data RMSE: 25263.589017\n",
      "r2 score for train data 0.9787096818917372\n"
     ]
    },
    {
     "name": "stderr",
     "output_type": "stream",
     "text": [
      "C:\\Users\\pavani.nrusimhdevara\\AppData\\Local\\Continuum\\anaconda3\\lib\\site-packages\\scipy\\stats\\stats.py:1713: FutureWarning: Using a non-tuple sequence for multidimensional indexing is deprecated; use `arr[tuple(seq)]` instead of `arr[seq]`. In the future this will be interpreted as an array index, `arr[np.array(seq)]`, which will result either in an error or a different result.\n",
      "  return np.add.reduce(sorted[indexer] * weights, axis=axis) / sumval\n"
     ]
    },
    {
     "data": {
      "image/png": "[encoded data removed]",
      "text/plain": [
       "<Figure size 360x360 with 1 Axes>"
      ]
     },
     "metadata": {
      "needs_background": "light"
     },
     "output_type": "display_data"
    },
    {
     "name": "stdout",
     "output_type": "stream",
     "text": [
      "test data RMSE: 61728.575042\n",
      "r2 score for test data 0.8590919984816866\n"
     ]
    }
   ],
   "source": [
    "\n",
    "regressor.fit(X_train,y_train)\n",
    "\n",
    "y_train_pred = regressor.predict(X_train)\n",
    "rmse_train = np.sqrt(mean_squared_error(y_train,y_train_pred))\n",
    "print(\"train data RMSE: %f\" % (rmse_train))\n",
    "print(\"r2 score for train data\",r2_score(y_train,y_train_pred))\n",
    "\n",
    "y_test_pred = regressor.predict(X_test)\n",
    "sns.distplot(y_test['pageviews'] - y_test_pred)\n",
    "plt.title(\"Residuals Plot\")\n",
    "plt.show()\n",
    "rmse = np.sqrt(mean_squared_error(y_test,y_test_pred))\n",
    "print(\"test data RMSE: %f\" % (rmse))\n",
    "print(\"r2 score for test data\",r2_score(y_test,y_test_pred))\n"
   ]
  },
  {
   "cell_type": "code",
   "execution_count": 46,
   "metadata": {},
   "outputs": [
    {
     "data": {
      "text/plain": [
       "0.008908033584064508"
      ]
     },
     "execution_count": 46,
     "metadata": {},
     "output_type": "execute_result"
    }
   ],
   "source": [
    "rmse/(max(pv_wx['pageviews']))"
   ]
  },
  {
   "cell_type": "code",
   "execution_count": 47,
   "metadata": {},
   "outputs": [
    {
     "data": {
      "text/html": [
       "<div>\n",
       "<style scoped>\n",
       "    .dataframe tbody tr th:only-of-type {\n",
       "        vertical-align: middle;\n",
       "    }\n",
       "\n",
       "    .dataframe tbody tr th {\n",
       "        vertical-align: top;\n",
       "    }\n",
       "\n",
       "    .dataframe thead th {\n",
       "        text-align: right;\n",
       "    }\n",
       "</style>\n",
       "<table border=\"1\" class=\"dataframe\">\n",
       "  <thead>\n",
       "    <tr style=\"text-align: right;\">\n",
       "      <th></th>\n",
       "      <th>Actual</th>\n",
       "      <th>Predicted</th>\n",
       "      <th>diff%</th>\n",
       "    </tr>\n",
       "  </thead>\n",
       "  <tbody>\n",
       "    <tr>\n",
       "      <th>63693</th>\n",
       "      <td>17776</td>\n",
       "      <td>19180.75</td>\n",
       "      <td>7.9025</td>\n",
       "    </tr>\n",
       "    <tr>\n",
       "      <th>19234</th>\n",
       "      <td>3841</td>\n",
       "      <td>6253.10</td>\n",
       "      <td>62.7988</td>\n",
       "    </tr>\n",
       "    <tr>\n",
       "      <th>46490</th>\n",
       "      <td>4181</td>\n",
       "      <td>3663.60</td>\n",
       "      <td>-12.3750</td>\n",
       "    </tr>\n",
       "    <tr>\n",
       "      <th>27333</th>\n",
       "      <td>840227</td>\n",
       "      <td>617077.25</td>\n",
       "      <td>-26.5583</td>\n",
       "    </tr>\n",
       "    <tr>\n",
       "      <th>21287</th>\n",
       "      <td>608893</td>\n",
       "      <td>296868.00</td>\n",
       "      <td>-51.2446</td>\n",
       "    </tr>\n",
       "  </tbody>\n",
       "</table>\n",
       "</div>"
      ],
      "text/plain": [
       "       Actual  Predicted    diff%\n",
       "63693   17776   19180.75   7.9025\n",
       "19234    3841    6253.10  62.7988\n",
       "46490    4181    3663.60 -12.3750\n",
       "27333  840227  617077.25 -26.5583\n",
       "21287  608893  296868.00 -51.2446"
      ]
     },
     "execution_count": 47,
     "metadata": {},
     "output_type": "execute_result"
    }
   ],
   "source": [
    "y_test_pred = regressor.predict(X_test)\n",
    "\n",
    "pred_df=pd.DataFrame({'Actual':y_test['pageviews'],'Predicted':y_test_pred,'diff%':round((y_test_pred-y_test['pageviews'])/y_test['pageviews']*100,4)})\n",
    "pred_df.head()"
   ]
  },
  {
   "cell_type": "code",
   "execution_count": 48,
   "metadata": {},
   "outputs": [
    {
     "data": {
      "text/html": [
       "<div>\n",
       "<style scoped>\n",
       "    .dataframe tbody tr th:only-of-type {\n",
       "        vertical-align: middle;\n",
       "    }\n",
       "\n",
       "    .dataframe tbody tr th {\n",
       "        vertical-align: top;\n",
       "    }\n",
       "\n",
       "    .dataframe thead th {\n",
       "        text-align: right;\n",
       "    }\n",
       "</style>\n",
       "<table border=\"1\" class=\"dataframe\">\n",
       "  <thead>\n",
       "    <tr style=\"text-align: right;\">\n",
       "      <th></th>\n",
       "      <th>date</th>\n",
       "      <th>metro</th>\n",
       "      <th>pageviews</th>\n",
       "      <th>cur_temp_avg</th>\n",
       "      <th>cur_humidity_avg</th>\n",
       "      <th>cur_wind_avg</th>\n",
       "      <th>holiday_flag</th>\n",
       "      <th>month</th>\n",
       "      <th>month_year</th>\n",
       "      <th>year</th>\n",
       "      <th>holiday_flag_label</th>\n",
       "      <th>metro_label</th>\n",
       "      <th>Season</th>\n",
       "      <th>Season_label</th>\n",
       "      <th>day_of_week</th>\n",
       "      <th>day_of_month</th>\n",
       "    </tr>\n",
       "  </thead>\n",
       "  <tbody>\n",
       "    <tr>\n",
       "      <th>0</th>\n",
       "      <td>2018-01-01</td>\n",
       "      <td>Roanoke-Lynchburg VA</td>\n",
       "      <td>66062</td>\n",
       "      <td>17.608</td>\n",
       "      <td>50.643</td>\n",
       "      <td>7.970</td>\n",
       "      <td>True</td>\n",
       "      <td>1</td>\n",
       "      <td>2018-01</td>\n",
       "      <td>2018</td>\n",
       "      <td>1</td>\n",
       "      <td>158</td>\n",
       "      <td>Winter</td>\n",
       "      <td>3</td>\n",
       "      <td>0</td>\n",
       "      <td>1</td>\n",
       "    </tr>\n",
       "    <tr>\n",
       "      <th>1</th>\n",
       "      <td>2018-01-01</td>\n",
       "      <td>Davenport IA-Rock Island-Moline IL</td>\n",
       "      <td>42885</td>\n",
       "      <td>26.475</td>\n",
       "      <td>68.050</td>\n",
       "      <td>9.128</td>\n",
       "      <td>True</td>\n",
       "      <td>1</td>\n",
       "      <td>2018-01</td>\n",
       "      <td>2018</td>\n",
       "      <td>1</td>\n",
       "      <td>50</td>\n",
       "      <td>Winter</td>\n",
       "      <td>3</td>\n",
       "      <td>0</td>\n",
       "      <td>1</td>\n",
       "    </tr>\n",
       "    <tr>\n",
       "      <th>2</th>\n",
       "      <td>2018-01-01</td>\n",
       "      <td>Paducah KY-Cape Girardeau MO-Harrisburg-Mount ...</td>\n",
       "      <td>30825</td>\n",
       "      <td>12.094</td>\n",
       "      <td>55.326</td>\n",
       "      <td>8.253</td>\n",
       "      <td>True</td>\n",
       "      <td>1</td>\n",
       "      <td>2018-01</td>\n",
       "      <td>2018</td>\n",
       "      <td>1</td>\n",
       "      <td>141</td>\n",
       "      <td>Winter</td>\n",
       "      <td>3</td>\n",
       "      <td>0</td>\n",
       "      <td>1</td>\n",
       "    </tr>\n",
       "    <tr>\n",
       "      <th>3</th>\n",
       "      <td>2018-01-01</td>\n",
       "      <td>Terre Haute IN</td>\n",
       "      <td>11963</td>\n",
       "      <td>14.197</td>\n",
       "      <td>62.036</td>\n",
       "      <td>8.101</td>\n",
       "      <td>True</td>\n",
       "      <td>1</td>\n",
       "      <td>2018-01</td>\n",
       "      <td>2018</td>\n",
       "      <td>1</td>\n",
       "      <td>185</td>\n",
       "      <td>Winter</td>\n",
       "      <td>3</td>\n",
       "      <td>0</td>\n",
       "      <td>1</td>\n",
       "    </tr>\n",
       "    <tr>\n",
       "      <th>4</th>\n",
       "      <td>2018-01-01</td>\n",
       "      <td>Tampa-St. Petersburg (Sarasota) FL</td>\n",
       "      <td>395547</td>\n",
       "      <td>45.930</td>\n",
       "      <td>82.001</td>\n",
       "      <td>11.703</td>\n",
       "      <td>True</td>\n",
       "      <td>1</td>\n",
       "      <td>2018-01</td>\n",
       "      <td>2018</td>\n",
       "      <td>1</td>\n",
       "      <td>184</td>\n",
       "      <td>Winter</td>\n",
       "      <td>3</td>\n",
       "      <td>0</td>\n",
       "      <td>1</td>\n",
       "    </tr>\n",
       "  </tbody>\n",
       "</table>\n",
       "</div>"
      ],
      "text/plain": [
       "        date                                              metro  pageviews  \\\n",
       "0 2018-01-01                               Roanoke-Lynchburg VA      66062   \n",
       "1 2018-01-01                 Davenport IA-Rock Island-Moline IL      42885   \n",
       "2 2018-01-01  Paducah KY-Cape Girardeau MO-Harrisburg-Mount ...      30825   \n",
       "3 2018-01-01                                     Terre Haute IN      11963   \n",
       "4 2018-01-01                 Tampa-St. Petersburg (Sarasota) FL     395547   \n",
       "\n",
       "   cur_temp_avg  cur_humidity_avg  cur_wind_avg holiday_flag  month  \\\n",
       "0        17.608            50.643         7.970         True      1   \n",
       "1        26.475            68.050         9.128         True      1   \n",
       "2        12.094            55.326         8.253         True      1   \n",
       "3        14.197            62.036         8.101         True      1   \n",
       "4        45.930            82.001        11.703         True      1   \n",
       "\n",
       "  month_year  year  holiday_flag_label  metro_label  Season  Season_label  \\\n",
       "0    2018-01  2018                   1          158  Winter             3   \n",
       "1    2018-01  2018                   1           50  Winter             3   \n",
       "2    2018-01  2018                   1          141  Winter             3   \n",
       "3    2018-01  2018                   1          185  Winter             3   \n",
       "4    2018-01  2018                   1          184  Winter             3   \n",
       "\n",
       "   day_of_week  day_of_month  \n",
       "0            0             1  \n",
       "1            0             1  \n",
       "2            0             1  \n",
       "3            0             1  \n",
       "4            0             1  "
      ]
     },
     "execution_count": 48,
     "metadata": {},
     "output_type": "execute_result"
    }
   ],
   "source": [
    "pv_wx.head()"
   ]
  },
  {
   "cell_type": "markdown",
   "metadata": {},
   "source": [
    "# Labelling Weather Variables to check if the Model performs even better"
   ]
  },
  {
   "cell_type": "code",
   "execution_count": 49,
   "metadata": {},
   "outputs": [],
   "source": [
    "conditions=[(pv_wx['cur_temp_avg']<40),\n",
    "            (pv_wx['cur_temp_avg']<50) & (pv_wx['cur_temp_avg']>=40),\n",
    "            (pv_wx['cur_temp_avg']<60) & (pv_wx['cur_temp_avg']>=50),\n",
    "           (pv_wx['cur_temp_avg']<65) & (pv_wx['cur_temp_avg']>=60),\n",
    "           (pv_wx['cur_temp_avg']<70) & (pv_wx['cur_temp_avg']>=65),\n",
    "           (pv_wx['cur_temp_avg']<80) & (pv_wx['cur_temp_avg']>=70),\n",
    "           (pv_wx['cur_temp_avg']<90) & (pv_wx['cur_temp_avg']>=80),\n",
    "           (pv_wx['cur_temp_avg']>=90)]\n",
    "# try not to use > and < signs as XGBoost algorithm complains about them\n",
    "choices=['LT40','40_50','50_60','60_65','65_70','70_80','80_90','GT90']\n",
    "pv_wx['temp_cat']=np.select(conditions, choices)\n",
    "\n",
    "\n",
    "cond_hum=[(pv_wx['cur_humidity_avg']<60),\n",
    "            (pv_wx['cur_humidity_avg']<70) & (pv_wx['cur_humidity_avg']>=60),\n",
    "            (pv_wx['cur_humidity_avg']<75) & (pv_wx['cur_humidity_avg']>=70),\n",
    "           (pv_wx['cur_humidity_avg']<80) & (pv_wx['cur_humidity_avg']>=75),\n",
    "           (pv_wx['cur_humidity_avg']>=80)]\n",
    "cho_hum=['LT60','60_70','70_75','75_80','GT80']\n",
    "pv_wx['hum_cat']=np.select(cond_hum,cho_hum)\n",
    "\n",
    "\n",
    "cond_wind=[(pv_wx['cur_wind_avg']<5),\n",
    "            (pv_wx['cur_wind_avg']<7.5) & (pv_wx['cur_wind_avg']>=5),\n",
    "            (pv_wx['cur_wind_avg']>=7.5)]\n",
    "cho_wind=['LT5','5_7.5','GT7.5']\n",
    "pv_wx['wind_cat']=np.select(cond_wind,cho_wind)"
   ]
  },
  {
   "cell_type": "code",
   "execution_count": 50,
   "metadata": {},
   "outputs": [
    {
     "data": {
      "text/html": [
       "<div>\n",
       "<style scoped>\n",
       "    .dataframe tbody tr th:only-of-type {\n",
       "        vertical-align: middle;\n",
       "    }\n",
       "\n",
       "    .dataframe tbody tr th {\n",
       "        vertical-align: top;\n",
       "    }\n",
       "\n",
       "    .dataframe thead th {\n",
       "        text-align: right;\n",
       "    }\n",
       "</style>\n",
       "<table border=\"1\" class=\"dataframe\">\n",
       "  <thead>\n",
       "    <tr style=\"text-align: right;\">\n",
       "      <th></th>\n",
       "      <th>date</th>\n",
       "      <th>metro</th>\n",
       "      <th>pageviews</th>\n",
       "      <th>cur_temp_avg</th>\n",
       "      <th>cur_humidity_avg</th>\n",
       "      <th>cur_wind_avg</th>\n",
       "      <th>holiday_flag</th>\n",
       "      <th>month</th>\n",
       "      <th>month_year</th>\n",
       "      <th>year</th>\n",
       "      <th>holiday_flag_label</th>\n",
       "      <th>metro_label</th>\n",
       "      <th>Season</th>\n",
       "      <th>Season_label</th>\n",
       "      <th>day_of_week</th>\n",
       "      <th>day_of_month</th>\n",
       "      <th>temp_cat</th>\n",
       "      <th>hum_cat</th>\n",
       "      <th>wind_cat</th>\n",
       "    </tr>\n",
       "  </thead>\n",
       "  <tbody>\n",
       "    <tr>\n",
       "      <th>0</th>\n",
       "      <td>2018-01-01</td>\n",
       "      <td>Roanoke-Lynchburg VA</td>\n",
       "      <td>66062</td>\n",
       "      <td>17.608</td>\n",
       "      <td>50.643</td>\n",
       "      <td>7.970</td>\n",
       "      <td>True</td>\n",
       "      <td>1</td>\n",
       "      <td>2018-01</td>\n",
       "      <td>2018</td>\n",
       "      <td>1</td>\n",
       "      <td>158</td>\n",
       "      <td>Winter</td>\n",
       "      <td>3</td>\n",
       "      <td>0</td>\n",
       "      <td>1</td>\n",
       "      <td>LT40</td>\n",
       "      <td>LT60</td>\n",
       "      <td>GT7.5</td>\n",
       "    </tr>\n",
       "    <tr>\n",
       "      <th>1</th>\n",
       "      <td>2018-01-01</td>\n",
       "      <td>Davenport IA-Rock Island-Moline IL</td>\n",
       "      <td>42885</td>\n",
       "      <td>26.475</td>\n",
       "      <td>68.050</td>\n",
       "      <td>9.128</td>\n",
       "      <td>True</td>\n",
       "      <td>1</td>\n",
       "      <td>2018-01</td>\n",
       "      <td>2018</td>\n",
       "      <td>1</td>\n",
       "      <td>50</td>\n",
       "      <td>Winter</td>\n",
       "      <td>3</td>\n",
       "      <td>0</td>\n",
       "      <td>1</td>\n",
       "      <td>LT40</td>\n",
       "      <td>60_70</td>\n",
       "      <td>GT7.5</td>\n",
       "    </tr>\n",
       "    <tr>\n",
       "      <th>2</th>\n",
       "      <td>2018-01-01</td>\n",
       "      <td>Paducah KY-Cape Girardeau MO-Harrisburg-Mount ...</td>\n",
       "      <td>30825</td>\n",
       "      <td>12.094</td>\n",
       "      <td>55.326</td>\n",
       "      <td>8.253</td>\n",
       "      <td>True</td>\n",
       "      <td>1</td>\n",
       "      <td>2018-01</td>\n",
       "      <td>2018</td>\n",
       "      <td>1</td>\n",
       "      <td>141</td>\n",
       "      <td>Winter</td>\n",
       "      <td>3</td>\n",
       "      <td>0</td>\n",
       "      <td>1</td>\n",
       "      <td>LT40</td>\n",
       "      <td>LT60</td>\n",
       "      <td>GT7.5</td>\n",
       "    </tr>\n",
       "    <tr>\n",
       "      <th>3</th>\n",
       "      <td>2018-01-01</td>\n",
       "      <td>Terre Haute IN</td>\n",
       "      <td>11963</td>\n",
       "      <td>14.197</td>\n",
       "      <td>62.036</td>\n",
       "      <td>8.101</td>\n",
       "      <td>True</td>\n",
       "      <td>1</td>\n",
       "      <td>2018-01</td>\n",
       "      <td>2018</td>\n",
       "      <td>1</td>\n",
       "      <td>185</td>\n",
       "      <td>Winter</td>\n",
       "      <td>3</td>\n",
       "      <td>0</td>\n",
       "      <td>1</td>\n",
       "      <td>LT40</td>\n",
       "      <td>60_70</td>\n",
       "      <td>GT7.5</td>\n",
       "    </tr>\n",
       "    <tr>\n",
       "      <th>4</th>\n",
       "      <td>2018-01-01</td>\n",
       "      <td>Tampa-St. Petersburg (Sarasota) FL</td>\n",
       "      <td>395547</td>\n",
       "      <td>45.930</td>\n",
       "      <td>82.001</td>\n",
       "      <td>11.703</td>\n",
       "      <td>True</td>\n",
       "      <td>1</td>\n",
       "      <td>2018-01</td>\n",
       "      <td>2018</td>\n",
       "      <td>1</td>\n",
       "      <td>184</td>\n",
       "      <td>Winter</td>\n",
       "      <td>3</td>\n",
       "      <td>0</td>\n",
       "      <td>1</td>\n",
       "      <td>40_50</td>\n",
       "      <td>GT80</td>\n",
       "      <td>GT7.5</td>\n",
       "    </tr>\n",
       "  </tbody>\n",
       "</table>\n",
       "</div>"
      ],
      "text/plain": [
       "        date                                              metro  pageviews  \\\n",
       "0 2018-01-01                               Roanoke-Lynchburg VA      66062   \n",
       "1 2018-01-01                 Davenport IA-Rock Island-Moline IL      42885   \n",
       "2 2018-01-01  Paducah KY-Cape Girardeau MO-Harrisburg-Mount ...      30825   \n",
       "3 2018-01-01                                     Terre Haute IN      11963   \n",
       "4 2018-01-01                 Tampa-St. Petersburg (Sarasota) FL     395547   \n",
       "\n",
       "   cur_temp_avg  cur_humidity_avg  cur_wind_avg holiday_flag  month  \\\n",
       "0        17.608            50.643         7.970         True      1   \n",
       "1        26.475            68.050         9.128         True      1   \n",
       "2        12.094            55.326         8.253         True      1   \n",
       "3        14.197            62.036         8.101         True      1   \n",
       "4        45.930            82.001        11.703         True      1   \n",
       "\n",
       "  month_year  year  holiday_flag_label  metro_label  Season  Season_label  \\\n",
       "0    2018-01  2018                   1          158  Winter             3   \n",
       "1    2018-01  2018                   1           50  Winter             3   \n",
       "2    2018-01  2018                   1          141  Winter             3   \n",
       "3    2018-01  2018                   1          185  Winter             3   \n",
       "4    2018-01  2018                   1          184  Winter             3   \n",
       "\n",
       "   day_of_week  day_of_month temp_cat hum_cat wind_cat  \n",
       "0            0             1     LT40    LT60    GT7.5  \n",
       "1            0             1     LT40   60_70    GT7.5  \n",
       "2            0             1     LT40    LT60    GT7.5  \n",
       "3            0             1     LT40   60_70    GT7.5  \n",
       "4            0             1    40_50    GT80    GT7.5  "
      ]
     },
     "execution_count": 50,
     "metadata": {},
     "output_type": "execute_result"
    }
   ],
   "source": [
    "pv_wx.head(5)"
   ]
  },
  {
   "cell_type": "code",
   "execution_count": 51,
   "metadata": {},
   "outputs": [],
   "source": [
    "pv_wx['temp_label'] = label_encoder.fit_transform(pv_wx['temp_cat'])\n",
    "pv_wx['hum_label'] = label_encoder.fit_transform(pv_wx['hum_cat'])\n",
    "pv_wx['wind_label'] = label_encoder.fit_transform(pv_wx['wind_cat'])"
   ]
  },
  {
   "cell_type": "code",
   "execution_count": 52,
   "metadata": {},
   "outputs": [],
   "source": [
    "X = pv_wx[['cur_temp_avg','cur_humidity_avg','cur_wind_avg','metro_label','holiday_flag_label','Season_label','month','year','day_of_week','day_of_month','temp_label','hum_label','wind_label']]\n",
    "y = pv_wx[['pageviews']]\n",
    "X_train, X_test, y_train, y_test = train_test_split( X, y, test_size=0.20,random_state=42)"
   ]
  },
  {
   "cell_type": "code",
   "execution_count": 53,
   "metadata": {},
   "outputs": [
    {
     "name": "stderr",
     "output_type": "stream",
     "text": [
      "C:\\Users\\pavani.nrusimhdevara\\AppData\\Local\\Continuum\\anaconda3\\lib\\site-packages\\ipykernel_launcher.py:2: DataConversionWarning: A column-vector y was passed when a 1d array was expected. Please change the shape of y to (n_samples,), for example using ravel().\n",
      "  \n"
     ]
    }
   ],
   "source": [
    "regressor = RandomForestRegressor(n_estimators=20, random_state=0)\n",
    "regressor.fit(X_train, y_train)\n",
    "y_pred = regressor.predict(X_test)"
   ]
  },
  {
   "cell_type": "code",
   "execution_count": 54,
   "metadata": {},
   "outputs": [
    {
     "name": "stderr",
     "output_type": "stream",
     "text": [
      "C:\\Users\\pavani.nrusimhdevara\\AppData\\Local\\Continuum\\anaconda3\\lib\\site-packages\\ipykernel_launcher.py:1: DataConversionWarning: A column-vector y was passed when a 1d array was expected. Please change the shape of y to (n_samples,), for example using ravel().\n",
      "  \"\"\"Entry point for launching an IPython kernel.\n"
     ]
    },
    {
     "name": "stdout",
     "output_type": "stream",
     "text": [
      "train data RMSE: 23809.622148\n",
      "r2 score for train data 0.9811389670387776\n"
     ]
    },
    {
     "name": "stderr",
     "output_type": "stream",
     "text": [
      "C:\\Users\\pavani.nrusimhdevara\\AppData\\Local\\Continuum\\anaconda3\\lib\\site-packages\\scipy\\stats\\stats.py:1713: FutureWarning: Using a non-tuple sequence for multidimensional indexing is deprecated; use `arr[tuple(seq)]` instead of `arr[seq]`. In the future this will be interpreted as an array index, `arr[np.array(seq)]`, which will result either in an error or a different result.\n",
      "  return np.add.reduce(sorted[indexer] * weights, axis=axis) / sumval\n"
     ]
    },
    {
     "data": {
      "image/png": "[encoded data removed]",
      "text/plain": [
       "<Figure size 360x360 with 1 Axes>"
      ]
     },
     "metadata": {
      "needs_background": "light"
     },
     "output_type": "display_data"
    },
    {
     "name": "stdout",
     "output_type": "stream",
     "text": [
      "test data RMSE: 60736.060313\n",
      "r2 score for test data 0.8539223549265482\n"
     ]
    }
   ],
   "source": [
    "regressor.fit(X_train,y_train)\n",
    "\n",
    "y_train_pred = regressor.predict(X_train)\n",
    "rmse_train = np.sqrt(mean_squared_error(y_train,y_train_pred))\n",
    "print(\"train data RMSE: %f\" % (rmse_train))\n",
    "print(\"r2 score for train data\",r2_score(y_train,y_train_pred))\n",
    "\n",
    "y_test_pred = regressor.predict(X_test)\n",
    "sns.distplot(y_test['pageviews'] - y_test_pred)\n",
    "plt.title(\"Residuals Plot\")\n",
    "plt.show()\n",
    "rmse = np.sqrt(mean_squared_error(y_test,y_test_pred))\n",
    "print(\"test data RMSE: %f\" % (rmse))\n",
    "print(\"r2 score for test data\",r2_score(y_test,y_test_pred))\n"
   ]
  },
  {
   "cell_type": "code",
   "execution_count": 55,
   "metadata": {},
   "outputs": [
    {
     "data": {
      "text/html": [
       "<div>\n",
       "<style scoped>\n",
       "    .dataframe tbody tr th:only-of-type {\n",
       "        vertical-align: middle;\n",
       "    }\n",
       "\n",
       "    .dataframe tbody tr th {\n",
       "        vertical-align: top;\n",
       "    }\n",
       "\n",
       "    .dataframe thead th {\n",
       "        text-align: right;\n",
       "    }\n",
       "</style>\n",
       "<table border=\"1\" class=\"dataframe\">\n",
       "  <thead>\n",
       "    <tr style=\"text-align: right;\">\n",
       "      <th></th>\n",
       "      <th>Actual</th>\n",
       "      <th>Predicted</th>\n",
       "      <th>diff%</th>\n",
       "    </tr>\n",
       "  </thead>\n",
       "  <tbody>\n",
       "    <tr>\n",
       "      <th>63693</th>\n",
       "      <td>17776</td>\n",
       "      <td>18000.15</td>\n",
       "      <td>1.2610</td>\n",
       "    </tr>\n",
       "    <tr>\n",
       "      <th>19234</th>\n",
       "      <td>3841</td>\n",
       "      <td>6408.25</td>\n",
       "      <td>66.8381</td>\n",
       "    </tr>\n",
       "    <tr>\n",
       "      <th>46490</th>\n",
       "      <td>4181</td>\n",
       "      <td>4524.15</td>\n",
       "      <td>8.2074</td>\n",
       "    </tr>\n",
       "    <tr>\n",
       "      <th>27333</th>\n",
       "      <td>840227</td>\n",
       "      <td>557718.40</td>\n",
       "      <td>-33.6229</td>\n",
       "    </tr>\n",
       "    <tr>\n",
       "      <th>21287</th>\n",
       "      <td>608893</td>\n",
       "      <td>382301.30</td>\n",
       "      <td>-37.2137</td>\n",
       "    </tr>\n",
       "  </tbody>\n",
       "</table>\n",
       "</div>"
      ],
      "text/plain": [
       "       Actual  Predicted    diff%\n",
       "63693   17776   18000.15   1.2610\n",
       "19234    3841    6408.25  66.8381\n",
       "46490    4181    4524.15   8.2074\n",
       "27333  840227  557718.40 -33.6229\n",
       "21287  608893  382301.30 -37.2137"
      ]
     },
     "execution_count": 55,
     "metadata": {},
     "output_type": "execute_result"
    }
   ],
   "source": [
    "y_test_pred = regressor.predict(X_test)\n",
    "\n",
    "pred_df=pd.DataFrame({'Actual':y_test['pageviews'],'Predicted':y_test_pred,'diff%':round((y_test_pred-y_test['pageviews'])/y_test['pageviews']*100,4)})\n",
    "pred_df.head()"
   ]
  },
  {
   "cell_type": "code",
   "execution_count": 56,
   "metadata": {},
   "outputs": [
    {
     "data": {
      "text/plain": [
       "0.008764804058130739"
      ]
     },
     "execution_count": 56,
     "metadata": {},
     "output_type": "execute_result"
    }
   ],
   "source": [
    "rmse/(max(pv_wx['pageviews']))"
   ]
  },
  {
   "cell_type": "markdown",
   "metadata": {},
   "source": [
    "Adding Labels on Weather Variables ahs increased the % by 1 percent\n",
    "RMSE Value decreased too by 1000 points"
   ]
  }
 ],
 "metadata": {
  "kernelspec": {
   "display_name": "Python 3",
   "language": "python",
   "name": "python3"
  },
  "language_info": {
   "codemirror_mode": {
    "name": "ipython",
    "version": 3
   },
   "file_extension": ".py",
   "mimetype": "text/x-python",
   "name": "python",
   "nbconvert_exporter": "python",
   "pygments_lexer": "ipython3",
   "version": "3.7.1"
  }
 },
 "nbformat": 4,
 "nbformat_minor": 2
}
